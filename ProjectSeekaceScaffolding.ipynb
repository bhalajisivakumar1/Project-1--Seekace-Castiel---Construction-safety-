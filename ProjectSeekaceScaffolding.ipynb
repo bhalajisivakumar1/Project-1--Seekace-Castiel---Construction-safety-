{
 "cells": [
  {
   "cell_type": "code",
   "execution_count": 1,
   "id": "fddd6970",
   "metadata": {},
   "outputs": [],
   "source": [
    "import pandas as pd\n",
    "import matplotlib.pyplot as plt\n",
    "import seaborn as sns\n"
   ]
  },
  {
   "cell_type": "code",
   "execution_count": 2,
   "id": "18b43df9",
   "metadata": {},
   "outputs": [],
   "source": [
    "df = pd.read_excel(r'C:\\Users\\acer\\truth_table.xlsx')"
   ]
  },
  {
   "cell_type": "code",
   "execution_count": 3,
   "id": "28a418d1",
   "metadata": {},
   "outputs": [
    {
     "data": {
      "text/html": [
       "<div>\n",
       "<style scoped>\n",
       "    .dataframe tbody tr th:only-of-type {\n",
       "        vertical-align: middle;\n",
       "    }\n",
       "\n",
       "    .dataframe tbody tr th {\n",
       "        vertical-align: top;\n",
       "    }\n",
       "\n",
       "    .dataframe thead th {\n",
       "        text-align: right;\n",
       "    }\n",
       "</style>\n",
       "<table border=\"1\" class=\"dataframe\">\n",
       "  <thead>\n",
       "    <tr style=\"text-align: right;\">\n",
       "      <th></th>\n",
       "      <th>Strong Structure</th>\n",
       "      <th>Support</th>\n",
       "      <th>Tightly Planked</th>\n",
       "      <th>Wear Proper harness</th>\n",
       "      <th>Distance from electric line &gt; 10 m</th>\n",
       "      <th>Base/Landing Surface</th>\n",
       "      <th>Proper PPE kits</th>\n",
       "      <th>Training to workers</th>\n",
       "      <th>Toeboard</th>\n",
       "      <th>Safe</th>\n",
       "      <th>Sever</th>\n",
       "      <th>Injury</th>\n",
       "    </tr>\n",
       "  </thead>\n",
       "  <tbody>\n",
       "    <tr>\n",
       "      <th>0</th>\n",
       "      <td>0</td>\n",
       "      <td>0</td>\n",
       "      <td>0</td>\n",
       "      <td>0</td>\n",
       "      <td>0</td>\n",
       "      <td>0</td>\n",
       "      <td>0</td>\n",
       "      <td>0</td>\n",
       "      <td>0</td>\n",
       "      <td>0</td>\n",
       "      <td>1</td>\n",
       "      <td>1</td>\n",
       "    </tr>\n",
       "    <tr>\n",
       "      <th>1</th>\n",
       "      <td>0</td>\n",
       "      <td>0</td>\n",
       "      <td>0</td>\n",
       "      <td>0</td>\n",
       "      <td>0</td>\n",
       "      <td>0</td>\n",
       "      <td>0</td>\n",
       "      <td>0</td>\n",
       "      <td>1</td>\n",
       "      <td>0</td>\n",
       "      <td>1</td>\n",
       "      <td>1</td>\n",
       "    </tr>\n",
       "    <tr>\n",
       "      <th>2</th>\n",
       "      <td>0</td>\n",
       "      <td>0</td>\n",
       "      <td>0</td>\n",
       "      <td>0</td>\n",
       "      <td>0</td>\n",
       "      <td>0</td>\n",
       "      <td>0</td>\n",
       "      <td>1</td>\n",
       "      <td>0</td>\n",
       "      <td>0</td>\n",
       "      <td>1</td>\n",
       "      <td>1</td>\n",
       "    </tr>\n",
       "    <tr>\n",
       "      <th>3</th>\n",
       "      <td>0</td>\n",
       "      <td>0</td>\n",
       "      <td>0</td>\n",
       "      <td>0</td>\n",
       "      <td>0</td>\n",
       "      <td>0</td>\n",
       "      <td>0</td>\n",
       "      <td>1</td>\n",
       "      <td>1</td>\n",
       "      <td>0</td>\n",
       "      <td>1</td>\n",
       "      <td>1</td>\n",
       "    </tr>\n",
       "    <tr>\n",
       "      <th>4</th>\n",
       "      <td>0</td>\n",
       "      <td>0</td>\n",
       "      <td>0</td>\n",
       "      <td>0</td>\n",
       "      <td>0</td>\n",
       "      <td>0</td>\n",
       "      <td>1</td>\n",
       "      <td>0</td>\n",
       "      <td>0</td>\n",
       "      <td>0</td>\n",
       "      <td>1</td>\n",
       "      <td>1</td>\n",
       "    </tr>\n",
       "    <tr>\n",
       "      <th>...</th>\n",
       "      <td>...</td>\n",
       "      <td>...</td>\n",
       "      <td>...</td>\n",
       "      <td>...</td>\n",
       "      <td>...</td>\n",
       "      <td>...</td>\n",
       "      <td>...</td>\n",
       "      <td>...</td>\n",
       "      <td>...</td>\n",
       "      <td>...</td>\n",
       "      <td>...</td>\n",
       "      <td>...</td>\n",
       "    </tr>\n",
       "    <tr>\n",
       "      <th>507</th>\n",
       "      <td>1</td>\n",
       "      <td>1</td>\n",
       "      <td>1</td>\n",
       "      <td>1</td>\n",
       "      <td>1</td>\n",
       "      <td>1</td>\n",
       "      <td>0</td>\n",
       "      <td>1</td>\n",
       "      <td>1</td>\n",
       "      <td>0</td>\n",
       "      <td>1</td>\n",
       "      <td>1</td>\n",
       "    </tr>\n",
       "    <tr>\n",
       "      <th>508</th>\n",
       "      <td>1</td>\n",
       "      <td>1</td>\n",
       "      <td>1</td>\n",
       "      <td>1</td>\n",
       "      <td>1</td>\n",
       "      <td>1</td>\n",
       "      <td>1</td>\n",
       "      <td>0</td>\n",
       "      <td>0</td>\n",
       "      <td>0</td>\n",
       "      <td>0</td>\n",
       "      <td>1</td>\n",
       "    </tr>\n",
       "    <tr>\n",
       "      <th>509</th>\n",
       "      <td>1</td>\n",
       "      <td>1</td>\n",
       "      <td>1</td>\n",
       "      <td>1</td>\n",
       "      <td>1</td>\n",
       "      <td>1</td>\n",
       "      <td>1</td>\n",
       "      <td>0</td>\n",
       "      <td>1</td>\n",
       "      <td>0</td>\n",
       "      <td>0</td>\n",
       "      <td>1</td>\n",
       "    </tr>\n",
       "    <tr>\n",
       "      <th>510</th>\n",
       "      <td>1</td>\n",
       "      <td>1</td>\n",
       "      <td>1</td>\n",
       "      <td>1</td>\n",
       "      <td>1</td>\n",
       "      <td>1</td>\n",
       "      <td>1</td>\n",
       "      <td>1</td>\n",
       "      <td>0</td>\n",
       "      <td>1</td>\n",
       "      <td>0</td>\n",
       "      <td>0</td>\n",
       "    </tr>\n",
       "    <tr>\n",
       "      <th>511</th>\n",
       "      <td>1</td>\n",
       "      <td>1</td>\n",
       "      <td>1</td>\n",
       "      <td>1</td>\n",
       "      <td>1</td>\n",
       "      <td>1</td>\n",
       "      <td>1</td>\n",
       "      <td>1</td>\n",
       "      <td>1</td>\n",
       "      <td>1</td>\n",
       "      <td>0</td>\n",
       "      <td>0</td>\n",
       "    </tr>\n",
       "  </tbody>\n",
       "</table>\n",
       "<p>512 rows × 12 columns</p>\n",
       "</div>"
      ],
      "text/plain": [
       "     Strong Structure  Support  Tightly Planked  Wear Proper harness  \\\n",
       "0                   0        0                0                    0   \n",
       "1                   0        0                0                    0   \n",
       "2                   0        0                0                    0   \n",
       "3                   0        0                0                    0   \n",
       "4                   0        0                0                    0   \n",
       "..                ...      ...              ...                  ...   \n",
       "507                 1        1                1                    1   \n",
       "508                 1        1                1                    1   \n",
       "509                 1        1                1                    1   \n",
       "510                 1        1                1                    1   \n",
       "511                 1        1                1                    1   \n",
       "\n",
       "     Distance from electric line > 10 m  Base/Landing Surface  \\\n",
       "0                                     0                     0   \n",
       "1                                     0                     0   \n",
       "2                                     0                     0   \n",
       "3                                     0                     0   \n",
       "4                                     0                     0   \n",
       "..                                  ...                   ...   \n",
       "507                                   1                     1   \n",
       "508                                   1                     1   \n",
       "509                                   1                     1   \n",
       "510                                   1                     1   \n",
       "511                                   1                     1   \n",
       "\n",
       "     Proper PPE kits  Training to workers  Toeboard  Safe  Sever  Injury  \n",
       "0                  0                    0         0     0      1       1  \n",
       "1                  0                    0         1     0      1       1  \n",
       "2                  0                    1         0     0      1       1  \n",
       "3                  0                    1         1     0      1       1  \n",
       "4                  1                    0         0     0      1       1  \n",
       "..               ...                  ...       ...   ...    ...     ...  \n",
       "507                0                    1         1     0      1       1  \n",
       "508                1                    0         0     0      0       1  \n",
       "509                1                    0         1     0      0       1  \n",
       "510                1                    1         0     1      0       0  \n",
       "511                1                    1         1     1      0       0  \n",
       "\n",
       "[512 rows x 12 columns]"
      ]
     },
     "execution_count": 3,
     "metadata": {},
     "output_type": "execute_result"
    }
   ],
   "source": [
    "df"
   ]
  },
  {
   "cell_type": "code",
   "execution_count": 4,
   "id": "311cdea0",
   "metadata": {},
   "outputs": [
    {
     "data": {
      "text/html": [
       "<div>\n",
       "<style scoped>\n",
       "    .dataframe tbody tr th:only-of-type {\n",
       "        vertical-align: middle;\n",
       "    }\n",
       "\n",
       "    .dataframe tbody tr th {\n",
       "        vertical-align: top;\n",
       "    }\n",
       "\n",
       "    .dataframe thead th {\n",
       "        text-align: right;\n",
       "    }\n",
       "</style>\n",
       "<table border=\"1\" class=\"dataframe\">\n",
       "  <thead>\n",
       "    <tr style=\"text-align: right;\">\n",
       "      <th></th>\n",
       "      <th>Strong Structure</th>\n",
       "      <th>Support</th>\n",
       "      <th>Tightly Planked</th>\n",
       "      <th>Wear Proper harness</th>\n",
       "      <th>Distance from electric line &gt; 10 m</th>\n",
       "      <th>Base/Landing Surface</th>\n",
       "      <th>Proper PPE kits</th>\n",
       "      <th>Training to workers</th>\n",
       "      <th>Toeboard</th>\n",
       "      <th>Safe</th>\n",
       "      <th>Sever</th>\n",
       "      <th>Injury</th>\n",
       "    </tr>\n",
       "  </thead>\n",
       "  <tbody>\n",
       "    <tr>\n",
       "      <th>0</th>\n",
       "      <td>0</td>\n",
       "      <td>0</td>\n",
       "      <td>0</td>\n",
       "      <td>0</td>\n",
       "      <td>0</td>\n",
       "      <td>0</td>\n",
       "      <td>0</td>\n",
       "      <td>0</td>\n",
       "      <td>0</td>\n",
       "      <td>0</td>\n",
       "      <td>1</td>\n",
       "      <td>1</td>\n",
       "    </tr>\n",
       "    <tr>\n",
       "      <th>1</th>\n",
       "      <td>0</td>\n",
       "      <td>0</td>\n",
       "      <td>0</td>\n",
       "      <td>0</td>\n",
       "      <td>0</td>\n",
       "      <td>0</td>\n",
       "      <td>0</td>\n",
       "      <td>0</td>\n",
       "      <td>1</td>\n",
       "      <td>0</td>\n",
       "      <td>1</td>\n",
       "      <td>1</td>\n",
       "    </tr>\n",
       "    <tr>\n",
       "      <th>2</th>\n",
       "      <td>0</td>\n",
       "      <td>0</td>\n",
       "      <td>0</td>\n",
       "      <td>0</td>\n",
       "      <td>0</td>\n",
       "      <td>0</td>\n",
       "      <td>0</td>\n",
       "      <td>1</td>\n",
       "      <td>0</td>\n",
       "      <td>0</td>\n",
       "      <td>1</td>\n",
       "      <td>1</td>\n",
       "    </tr>\n",
       "    <tr>\n",
       "      <th>3</th>\n",
       "      <td>0</td>\n",
       "      <td>0</td>\n",
       "      <td>0</td>\n",
       "      <td>0</td>\n",
       "      <td>0</td>\n",
       "      <td>0</td>\n",
       "      <td>0</td>\n",
       "      <td>1</td>\n",
       "      <td>1</td>\n",
       "      <td>0</td>\n",
       "      <td>1</td>\n",
       "      <td>1</td>\n",
       "    </tr>\n",
       "    <tr>\n",
       "      <th>4</th>\n",
       "      <td>0</td>\n",
       "      <td>0</td>\n",
       "      <td>0</td>\n",
       "      <td>0</td>\n",
       "      <td>0</td>\n",
       "      <td>0</td>\n",
       "      <td>1</td>\n",
       "      <td>0</td>\n",
       "      <td>0</td>\n",
       "      <td>0</td>\n",
       "      <td>1</td>\n",
       "      <td>1</td>\n",
       "    </tr>\n",
       "  </tbody>\n",
       "</table>\n",
       "</div>"
      ],
      "text/plain": [
       "   Strong Structure  Support  Tightly Planked  Wear Proper harness  \\\n",
       "0                 0        0                0                    0   \n",
       "1                 0        0                0                    0   \n",
       "2                 0        0                0                    0   \n",
       "3                 0        0                0                    0   \n",
       "4                 0        0                0                    0   \n",
       "\n",
       "   Distance from electric line > 10 m  Base/Landing Surface  Proper PPE kits  \\\n",
       "0                                   0                     0                0   \n",
       "1                                   0                     0                0   \n",
       "2                                   0                     0                0   \n",
       "3                                   0                     0                0   \n",
       "4                                   0                     0                1   \n",
       "\n",
       "   Training to workers  Toeboard  Safe  Sever  Injury  \n",
       "0                    0         0     0      1       1  \n",
       "1                    0         1     0      1       1  \n",
       "2                    1         0     0      1       1  \n",
       "3                    1         1     0      1       1  \n",
       "4                    0         0     0      1       1  "
      ]
     },
     "execution_count": 4,
     "metadata": {},
     "output_type": "execute_result"
    }
   ],
   "source": [
    "df.head()"
   ]
  },
  {
   "cell_type": "code",
   "execution_count": 5,
   "id": "e3c29d3e",
   "metadata": {},
   "outputs": [
    {
     "name": "stdout",
     "output_type": "stream",
     "text": [
      "<class 'pandas.core.frame.DataFrame'>\n",
      "RangeIndex: 512 entries, 0 to 511\n",
      "Data columns (total 12 columns):\n",
      " #   Column                              Non-Null Count  Dtype\n",
      "---  ------                              --------------  -----\n",
      " 0   Strong Structure                    512 non-null    int64\n",
      " 1   Support                             512 non-null    int64\n",
      " 2   Tightly Planked                     512 non-null    int64\n",
      " 3   Wear Proper harness                 512 non-null    int64\n",
      " 4   Distance from electric line > 10 m  512 non-null    int64\n",
      " 5   Base/Landing Surface                512 non-null    int64\n",
      " 6   Proper PPE kits                     512 non-null    int64\n",
      " 7   Training to workers                 512 non-null    int64\n",
      " 8   Toeboard                            512 non-null    int64\n",
      " 9   Safe                                512 non-null    int64\n",
      " 10  Sever                               512 non-null    int64\n",
      " 11  Injury                              512 non-null    int64\n",
      "dtypes: int64(12)\n",
      "memory usage: 48.1 KB\n"
     ]
    }
   ],
   "source": [
    "df.info()"
   ]
  },
  {
   "cell_type": "markdown",
   "id": "e0bae9e0",
   "metadata": {},
   "source": [
    "# Building the model"
   ]
  },
  {
   "cell_type": "markdown",
   "id": "47368c33",
   "metadata": {},
   "source": [
    "# 1. Decision tree"
   ]
  },
  {
   "cell_type": "markdown",
   "id": "792ca559",
   "metadata": {},
   "source": [
    "## A)For safe cases:"
   ]
  },
  {
   "cell_type": "code",
   "execution_count": 6,
   "id": "3e28b7e0",
   "metadata": {},
   "outputs": [],
   "source": [
    "from sklearn.model_selection import train_test_split"
   ]
  },
  {
   "cell_type": "code",
   "execution_count": 7,
   "id": "01f8baa9",
   "metadata": {},
   "outputs": [],
   "source": [
    "from sklearn import tree\n",
    "model = tree.DecisionTreeClassifier()"
   ]
  },
  {
   "cell_type": "code",
   "execution_count": 8,
   "id": "200c549f",
   "metadata": {},
   "outputs": [],
   "source": [
    "X = df.drop(['Safe','Sever','Injury'],axis = 1)\n"
   ]
  },
  {
   "cell_type": "code",
   "execution_count": 9,
   "id": "4a006f12",
   "metadata": {},
   "outputs": [],
   "source": [
    "y = df['Safe']"
   ]
  },
  {
   "cell_type": "code",
   "execution_count": 10,
   "id": "d2503ba4",
   "metadata": {},
   "outputs": [],
   "source": [
    "X_train,X_test,y_train,y_test = train_test_split(X,y,test_size=0.2)"
   ]
  },
  {
   "cell_type": "markdown",
   "id": "ffc2153e",
   "metadata": {},
   "source": [
    "### Calculating the lengths"
   ]
  },
  {
   "cell_type": "code",
   "execution_count": 11,
   "id": "b204e9db",
   "metadata": {},
   "outputs": [
    {
     "data": {
      "text/plain": [
       "409"
      ]
     },
     "execution_count": 11,
     "metadata": {},
     "output_type": "execute_result"
    }
   ],
   "source": [
    "len(X_train)\n"
   ]
  },
  {
   "cell_type": "code",
   "execution_count": 12,
   "id": "f5e00c1a",
   "metadata": {
    "scrolled": true
   },
   "outputs": [
    {
     "data": {
      "text/plain": [
       "103"
      ]
     },
     "execution_count": 12,
     "metadata": {},
     "output_type": "execute_result"
    }
   ],
   "source": [
    "len(X_test)"
   ]
  },
  {
   "cell_type": "code",
   "execution_count": 13,
   "id": "99805dae",
   "metadata": {},
   "outputs": [
    {
     "data": {
      "text/plain": [
       "103"
      ]
     },
     "execution_count": 13,
     "metadata": {},
     "output_type": "execute_result"
    }
   ],
   "source": [
    "len(y_test)"
   ]
  },
  {
   "cell_type": "code",
   "execution_count": 14,
   "id": "f1394e1e",
   "metadata": {
    "scrolled": true
   },
   "outputs": [
    {
     "data": {
      "text/plain": [
       "409"
      ]
     },
     "execution_count": 14,
     "metadata": {},
     "output_type": "execute_result"
    }
   ],
   "source": [
    "len(y_train)"
   ]
  },
  {
   "cell_type": "markdown",
   "id": "3c048c9f",
   "metadata": {},
   "source": [
    "### Fitting the model"
   ]
  },
  {
   "cell_type": "code",
   "execution_count": 15,
   "id": "6cdcd321",
   "metadata": {},
   "outputs": [
    {
     "data": {
      "text/plain": [
       "DecisionTreeClassifier()"
      ]
     },
     "execution_count": 15,
     "metadata": {},
     "output_type": "execute_result"
    }
   ],
   "source": [
    "model.fit(X_train,y_train)"
   ]
  },
  {
   "cell_type": "markdown",
   "id": "728e4036",
   "metadata": {},
   "source": [
    "### Prediction"
   ]
  },
  {
   "cell_type": "code",
   "execution_count": 16,
   "id": "956ac1bb",
   "metadata": {},
   "outputs": [
    {
     "data": {
      "text/plain": [
       "array([0], dtype=int64)"
      ]
     },
     "execution_count": 16,
     "metadata": {},
     "output_type": "execute_result"
    }
   ],
   "source": [
    "model.predict([[0,0,0,1,1,1,0,0,1]])"
   ]
  },
  {
   "cell_type": "code",
   "execution_count": 17,
   "id": "d56f972b",
   "metadata": {
    "scrolled": true
   },
   "outputs": [
    {
     "data": {
      "text/plain": [
       "array([1], dtype=int64)"
      ]
     },
     "execution_count": 17,
     "metadata": {},
     "output_type": "execute_result"
    }
   ],
   "source": [
    "model.predict([[1,1,1,1,1,0,1,1,0]])"
   ]
  },
  {
   "cell_type": "code",
   "execution_count": 18,
   "id": "66e4c093",
   "metadata": {},
   "outputs": [],
   "source": [
    "y_predicted = model.predict(X_test)"
   ]
  },
  {
   "cell_type": "code",
   "execution_count": 19,
   "id": "7bd06fda",
   "metadata": {},
   "outputs": [
    {
     "data": {
      "text/plain": [
       "1.0"
      ]
     },
     "execution_count": 19,
     "metadata": {},
     "output_type": "execute_result"
    }
   ],
   "source": [
    "model.score(X_test,y_test)"
   ]
  },
  {
   "cell_type": "code",
   "execution_count": 20,
   "id": "3f32bec2",
   "metadata": {},
   "outputs": [
    {
     "data": {
      "text/plain": [
       "1.0"
      ]
     },
     "execution_count": 20,
     "metadata": {},
     "output_type": "execute_result"
    }
   ],
   "source": [
    "model.score(X,y)"
   ]
  },
  {
   "cell_type": "code",
   "execution_count": 21,
   "id": "16dc1ea9",
   "metadata": {},
   "outputs": [
    {
     "data": {
      "text/plain": [
       "1.0"
      ]
     },
     "execution_count": 21,
     "metadata": {},
     "output_type": "execute_result"
    }
   ],
   "source": [
    "model.score(X_train,y_train)"
   ]
  },
  {
   "cell_type": "code",
   "execution_count": null,
   "id": "26c4fe8f",
   "metadata": {},
   "outputs": [],
   "source": []
  },
  {
   "cell_type": "markdown",
   "id": "766095b9",
   "metadata": {},
   "source": [
    "### Confusion matrix"
   ]
  },
  {
   "cell_type": "code",
   "execution_count": 22,
   "id": "d2990392",
   "metadata": {},
   "outputs": [],
   "source": [
    "from sklearn.metrics import confusion_matrix"
   ]
  },
  {
   "cell_type": "code",
   "execution_count": 23,
   "id": "d953dc77",
   "metadata": {},
   "outputs": [],
   "source": [
    "cm = confusion_matrix(y,model.predict(X))"
   ]
  },
  {
   "cell_type": "code",
   "execution_count": 24,
   "id": "c7183780",
   "metadata": {},
   "outputs": [
    {
     "data": {
      "text/plain": [
       "array([[504,   0],\n",
       "       [  0,   8]], dtype=int64)"
      ]
     },
     "execution_count": 24,
     "metadata": {},
     "output_type": "execute_result"
    }
   ],
   "source": [
    "cm"
   ]
  },
  {
   "cell_type": "code",
   "execution_count": 25,
   "id": "584ec7f7",
   "metadata": {},
   "outputs": [
    {
     "data": {
      "image/png": "[encoded data removed]",
      "text/plain": [
       "<Figure size 432x288 with 2 Axes>"
      ]
     },
     "metadata": {
      "needs_background": "light"
     },
     "output_type": "display_data"
    }
   ],
   "source": [
    "%matplotlib inline\n",
    "sns.heatmap(cm,annot = True)\n",
    "plt.xlabel('y_true')\n",
    "plt.ylabel('y_predicted')\n",
    "plt.show()"
   ]
  },
  {
   "cell_type": "markdown",
   "id": "72c1474f",
   "metadata": {},
   "source": [
    "### Classification Report"
   ]
  },
  {
   "cell_type": "code",
   "execution_count": 26,
   "id": "a430ac5d",
   "metadata": {},
   "outputs": [],
   "source": [
    "from sklearn.metrics import classification_report"
   ]
  },
  {
   "cell_type": "code",
   "execution_count": 27,
   "id": "7bda9a31",
   "metadata": {},
   "outputs": [
    {
     "name": "stdout",
     "output_type": "stream",
     "text": [
      "              precision    recall  f1-score   support\n",
      "\n",
      "           0       1.00      1.00      1.00       101\n",
      "           1       1.00      1.00      1.00         2\n",
      "\n",
      "    accuracy                           1.00       103\n",
      "   macro avg       1.00      1.00      1.00       103\n",
      "weighted avg       1.00      1.00      1.00       103\n",
      "\n"
     ]
    }
   ],
   "source": [
    "print(classification_report(y_test, y_predicted))"
   ]
  },
  {
   "cell_type": "markdown",
   "id": "766871fd",
   "metadata": {},
   "source": [
    "## B) For sever cases:"
   ]
  },
  {
   "cell_type": "code",
   "execution_count": 28,
   "id": "24c43f84",
   "metadata": {},
   "outputs": [],
   "source": [
    "y_sever = df['Sever']"
   ]
  },
  {
   "cell_type": "code",
   "execution_count": 29,
   "id": "48c4a4ed",
   "metadata": {},
   "outputs": [],
   "source": [
    "X_sever_train,X_sever_test,y_sever_train,y_sever_test = train_test_split(X,y_sever,test_size=0.1)"
   ]
  },
  {
   "cell_type": "code",
   "execution_count": 102,
   "id": "c65f23cd",
   "metadata": {},
   "outputs": [
    {
     "name": "stdout",
     "output_type": "stream",
     "text": [
      "length of X_sever_train:  460\n",
      "length of X_sever_test:  52\n",
      "length of y_sever_train:  460\n",
      "length of y_sever_test:  52\n"
     ]
    }
   ],
   "source": [
    "print('length of X_sever_train: ',len(X_sever_train))\n",
    "print('length of X_sever_test: ',len(X_sever_test))\n",
    "print('length of y_sever_train: ',len(y_sever_train))\n",
    "print('length of y_sever_test: ',len(y_sever_test))"
   ]
  },
  {
   "cell_type": "code",
   "execution_count": 103,
   "id": "1f2f1996",
   "metadata": {},
   "outputs": [],
   "source": [
    "model_sever = tree.DecisionTreeClassifier()"
   ]
  },
  {
   "cell_type": "code",
   "execution_count": 104,
   "id": "e0bb326c",
   "metadata": {},
   "outputs": [
    {
     "data": {
      "text/plain": [
       "DecisionTreeClassifier()"
      ]
     },
     "execution_count": 104,
     "metadata": {},
     "output_type": "execute_result"
    }
   ],
   "source": [
    "model_sever.fit(X_sever_train,y_sever_train)"
   ]
  },
  {
   "cell_type": "code",
   "execution_count": 105,
   "id": "a03bbda3",
   "metadata": {},
   "outputs": [],
   "source": [
    "y_sever_predicted = model_sever.predict(X_sever_test)"
   ]
  },
  {
   "cell_type": "code",
   "execution_count": 106,
   "id": "bbe0e606",
   "metadata": {},
   "outputs": [],
   "source": [
    "\n",
    "model_test_s = model_sever.score(X_sever_test,y_sever_test)\n",
    "model_train_s = model_sever.score(X_sever_train,y_sever_train)"
   ]
  },
  {
   "cell_type": "code",
   "execution_count": 107,
   "id": "91b0b3b5",
   "metadata": {},
   "outputs": [
    {
     "name": "stdout",
     "output_type": "stream",
     "text": [
      "Test score:  1.0\n",
      "Train score:  1.0\n"
     ]
    }
   ],
   "source": [
    "print('Test score: ',model_test_s)\n",
    "print('Train score: ',model_train_s)"
   ]
  },
  {
   "cell_type": "code",
   "execution_count": 108,
   "id": "6bd5b0ef",
   "metadata": {},
   "outputs": [],
   "source": [
    "cm_sever = confusion_matrix(y_sever_test,y_sever_predicted)"
   ]
  },
  {
   "cell_type": "code",
   "execution_count": 109,
   "id": "b2bebc06",
   "metadata": {},
   "outputs": [
    {
     "data": {
      "text/plain": [
       "array([[ 3,  0],\n",
       "       [ 0, 49]], dtype=int64)"
      ]
     },
     "execution_count": 109,
     "metadata": {},
     "output_type": "execute_result"
    }
   ],
   "source": [
    "cm_sever"
   ]
  },
  {
   "cell_type": "code",
   "execution_count": 110,
   "id": "8ba5d146",
   "metadata": {},
   "outputs": [
    {
     "data": {
      "image/png": "[encoded data removed]",
      "text/plain": [
       "<Figure size 432x288 with 2 Axes>"
      ]
     },
     "metadata": {
      "needs_background": "light"
     },
     "output_type": "display_data"
    }
   ],
   "source": [
    "%matplotlib inline\n",
    "sns.heatmap(cm_sever,annot = True)\n",
    "plt.xlabel('y_true')\n",
    "plt.ylabel('y_predicted')\n",
    "plt.show()\n"
   ]
  },
  {
   "cell_type": "code",
   "execution_count": 111,
   "id": "b8521b93",
   "metadata": {},
   "outputs": [
    {
     "data": {
      "text/plain": [
       "array([1], dtype=int64)"
      ]
     },
     "execution_count": 111,
     "metadata": {},
     "output_type": "execute_result"
    }
   ],
   "source": [
    "model_sever.predict([[0,0,0,0,0,1,0,0,1]])"
   ]
  },
  {
   "cell_type": "markdown",
   "id": "ff541c95",
   "metadata": {},
   "source": [
    "## C) For Injury cases : "
   ]
  },
  {
   "cell_type": "code",
   "execution_count": 112,
   "id": "26a3ceb3",
   "metadata": {},
   "outputs": [],
   "source": [
    "y_injury = df['Sever']"
   ]
  },
  {
   "cell_type": "code",
   "execution_count": 113,
   "id": "65a9ecac",
   "metadata": {},
   "outputs": [],
   "source": [
    "X_injury_train,X_injury_test,y_injury_train,y_injury_test = train_test_split(X,y_injury,test_size=0.2)"
   ]
  },
  {
   "cell_type": "code",
   "execution_count": 114,
   "id": "6fcc8ab0",
   "metadata": {},
   "outputs": [
    {
     "name": "stdout",
     "output_type": "stream",
     "text": [
      "length of X_injury_train:  409\n",
      "length of X_injury_test:  103\n",
      "length of y_injury_train:  409\n",
      "length of y_injury_test:  103\n"
     ]
    }
   ],
   "source": [
    "print('length of X_injury_train: ',len(X_injury_train))\n",
    "print('length of X_injury_test: ',len(X_injury_test))\n",
    "print('length of y_injury_train: ',len(y_injury_train))\n",
    "print('length of y_injury_test: ',len(y_injury_test))"
   ]
  },
  {
   "cell_type": "code",
   "execution_count": 115,
   "id": "20e5e114",
   "metadata": {},
   "outputs": [],
   "source": [
    "model_injury = tree.DecisionTreeClassifier()"
   ]
  },
  {
   "cell_type": "code",
   "execution_count": 116,
   "id": "71a2788a",
   "metadata": {},
   "outputs": [
    {
     "data": {
      "text/plain": [
       "DecisionTreeClassifier()"
      ]
     },
     "execution_count": 116,
     "metadata": {},
     "output_type": "execute_result"
    }
   ],
   "source": [
    "model_injury.fit(X_injury_train,y_injury_train)"
   ]
  },
  {
   "cell_type": "code",
   "execution_count": 117,
   "id": "2deb4d6a",
   "metadata": {},
   "outputs": [],
   "source": [
    "y_injury_predicted = model_injury.predict(X_injury_test)"
   ]
  },
  {
   "cell_type": "code",
   "execution_count": 118,
   "id": "a797b024",
   "metadata": {},
   "outputs": [],
   "source": [
    "model_test_i = model_injury.score(X_injury_test,y_injury_test)\n",
    "model_train_i = model_injury.score(X_injury_train,y_injury_train)"
   ]
  },
  {
   "cell_type": "code",
   "execution_count": 119,
   "id": "955c4633",
   "metadata": {},
   "outputs": [
    {
     "name": "stdout",
     "output_type": "stream",
     "text": [
      "Test score:  1.0\n",
      "Train score:  1.0\n"
     ]
    }
   ],
   "source": [
    "print('Test score: ',model_test_i)\n",
    "print('Train score: ',model_train_i)"
   ]
  },
  {
   "cell_type": "code",
   "execution_count": 120,
   "id": "2d3c1abe",
   "metadata": {},
   "outputs": [],
   "source": [
    "cm_injury = confusion_matrix(y_injury_test,y_injury_predicted)"
   ]
  },
  {
   "cell_type": "code",
   "execution_count": 121,
   "id": "b61b9dcb",
   "metadata": {},
   "outputs": [
    {
     "data": {
      "text/plain": [
       "array([[  1,   0],\n",
       "       [  0, 102]], dtype=int64)"
      ]
     },
     "execution_count": 121,
     "metadata": {},
     "output_type": "execute_result"
    }
   ],
   "source": [
    "cm_injury"
   ]
  },
  {
   "cell_type": "code",
   "execution_count": 122,
   "id": "1240943d",
   "metadata": {
    "scrolled": true
   },
   "outputs": [
    {
     "data": {
      "image/png": "[encoded data removed]",
      "text/plain": [
       "<Figure size 432x288 with 2 Axes>"
      ]
     },
     "metadata": {
      "needs_background": "light"
     },
     "output_type": "display_data"
    }
   ],
   "source": [
    "%matplotlib inline\n",
    "sns.heatmap(cm_injury,annot = True)\n",
    "plt.xlabel('y_true')\n",
    "plt.ylabel('y_predicted')\n",
    "plt.show()"
   ]
  },
  {
   "cell_type": "markdown",
   "id": "cd6f481e",
   "metadata": {},
   "source": [
    "# SVM"
   ]
  },
  {
   "cell_type": "markdown",
   "id": "6fabd990",
   "metadata": {},
   "source": [
    "## For safe cases:\n"
   ]
  },
  {
   "cell_type": "code",
   "execution_count": 123,
   "id": "47d2dbf9",
   "metadata": {},
   "outputs": [],
   "source": [
    "from sklearn import svm\n",
    "model_svmsafe = svm.SVC()"
   ]
  },
  {
   "cell_type": "code",
   "execution_count": 124,
   "id": "a66966eb",
   "metadata": {},
   "outputs": [
    {
     "data": {
      "text/plain": [
       "SVC()"
      ]
     },
     "execution_count": 124,
     "metadata": {},
     "output_type": "execute_result"
    }
   ],
   "source": [
    "model_svmsafe.fit(X_train,y_train)"
   ]
  },
  {
   "cell_type": "code",
   "execution_count": 138,
   "id": "6dc479ee",
   "metadata": {},
   "outputs": [],
   "source": [
    "y_p = model_svmsafe.predict(X_test)"
   ]
  },
  {
   "cell_type": "code",
   "execution_count": 137,
   "id": "f42cc0d1",
   "metadata": {},
   "outputs": [],
   "source": [
    "svmscoresafe_test = model_svmsafe.score(X_test,y_test)\n",
    "svmscoresafe_train = model_svmsafe.score(X_train,y_train)"
   ]
  },
  {
   "cell_type": "code",
   "execution_count": 139,
   "id": "4b2e2353",
   "metadata": {},
   "outputs": [
    {
     "name": "stdout",
     "output_type": "stream",
     "text": [
      "Test score:  0.9902912621359223\n",
      "Train score:  0.9828850855745721\n"
     ]
    }
   ],
   "source": [
    "print('Test score: ',svmscoresafe_test)\n",
    "print('Train score: ',svmscoresafe_train)"
   ]
  },
  {
   "cell_type": "code",
   "execution_count": 140,
   "id": "92d5465c",
   "metadata": {},
   "outputs": [],
   "source": [
    "cm_svm = confusion_matrix(y,model_svmsafe.predict(X))"
   ]
  },
  {
   "cell_type": "code",
   "execution_count": 141,
   "id": "6037c2ab",
   "metadata": {},
   "outputs": [
    {
     "data": {
      "text/plain": [
       "array([[504,   0],\n",
       "       [  8,   0]], dtype=int64)"
      ]
     },
     "execution_count": 141,
     "metadata": {},
     "output_type": "execute_result"
    }
   ],
   "source": [
    "cm_svm"
   ]
  },
  {
   "cell_type": "code",
   "execution_count": 142,
   "id": "b5a64db8",
   "metadata": {
    "scrolled": true
   },
   "outputs": [
    {
     "data": {
      "image/png": "[encoded data removed]",
      "text/plain": [
       "<Figure size 432x288 with 2 Axes>"
      ]
     },
     "metadata": {
      "needs_background": "light"
     },
     "output_type": "display_data"
    }
   ],
   "source": [
    "%matplotlib inline\n",
    "sns.heatmap(cm_svm,annot = True)\n",
    "plt.xlabel('y_true')\n",
    "plt.ylabel('y_predicted')\n",
    "plt.show()\n"
   ]
  },
  {
   "cell_type": "markdown",
   "id": "21f2f02f",
   "metadata": {},
   "source": [
    "## For sever cases:"
   ]
  },
  {
   "cell_type": "code",
   "execution_count": 132,
   "id": "d48f0592",
   "metadata": {},
   "outputs": [],
   "source": [
    "model_svmsever = svm.SVC()"
   ]
  },
  {
   "cell_type": "code",
   "execution_count": 133,
   "id": "5512976d",
   "metadata": {},
   "outputs": [
    {
     "data": {
      "text/plain": [
       "SVC()"
      ]
     },
     "execution_count": 133,
     "metadata": {},
     "output_type": "execute_result"
    }
   ],
   "source": [
    "X_sever_train,X_sever_test,y_sever_train,y_sever_test = train_test_split(X,y_sever,test_size=0.1)\n",
    "model_svmsever.fit(X_sever_train,y_sever_train)"
   ]
  },
  {
   "cell_type": "code",
   "execution_count": 134,
   "id": "aea71bfb",
   "metadata": {},
   "outputs": [
    {
     "name": "stdout",
     "output_type": "stream",
     "text": [
      "length of X_sever_train:  460\n",
      "length of X_sever_test:  52\n",
      "length of y_sever_train:  460\n",
      "length of y_sever_test:  52\n"
     ]
    }
   ],
   "source": [
    "print('length of X_sever_train: ',len(X_sever_train))\n",
    "print('length of X_sever_test: ',len(X_sever_test))\n",
    "print('length of y_sever_train: ',len(y_sever_train))\n",
    "print('length of y_sever_test: ',len(y_sever_test))"
   ]
  },
  {
   "cell_type": "code",
   "execution_count": 146,
   "id": "d82d9999",
   "metadata": {},
   "outputs": [],
   "source": [
    "y_p_seversvm = model_svmsever.predict(X_sever_test)"
   ]
  },
  {
   "cell_type": "code",
   "execution_count": 144,
   "id": "32e9ea84",
   "metadata": {},
   "outputs": [],
   "source": [
    "svmscoresever_test = model_svmsever.score(X_sever_test,y_sever_test)\n",
    "svmscoresever_train = model_svmsever.score(X_sever_train,y_sever_train)"
   ]
  },
  {
   "cell_type": "code",
   "execution_count": 145,
   "id": "8d8467b5",
   "metadata": {},
   "outputs": [
    {
     "name": "stdout",
     "output_type": "stream",
     "text": [
      "Test score:  0.9807692307692307\n",
      "Train score:  0.9934782608695653\n"
     ]
    }
   ],
   "source": [
    "print('Test score: ',svmscoresever_test)\n",
    "print('Train score: ',svmscoresever_train)"
   ]
  },
  {
   "cell_type": "code",
   "execution_count": 147,
   "id": "d3431a8d",
   "metadata": {},
   "outputs": [
    {
     "data": {
      "text/plain": [
       "array([[  8,   4],\n",
       "       [  0, 500]], dtype=int64)"
      ]
     },
     "execution_count": 147,
     "metadata": {},
     "output_type": "execute_result"
    }
   ],
   "source": [
    "cm_svm_sever = confusion_matrix(y_sever,model_svmsever.predict(X))\n",
    "cm_svm_sever "
   ]
  },
  {
   "cell_type": "code",
   "execution_count": 149,
   "id": "295a66a4",
   "metadata": {},
   "outputs": [
    {
     "data": {
      "image/png": "[encoded data removed]",
      "text/plain": [
       "<Figure size 432x288 with 2 Axes>"
      ]
     },
     "metadata": {
      "needs_background": "light"
     },
     "output_type": "display_data"
    }
   ],
   "source": [
    "%matplotlib inline\n",
    "sns.heatmap(cm_svm_sever,annot = True)\n",
    "plt.xlabel('y_true')\n",
    "plt.ylabel('y_predicted')\n",
    "plt.show()"
   ]
  },
  {
   "cell_type": "markdown",
   "id": "88e0c798",
   "metadata": {},
   "source": [
    "## For injury cases:"
   ]
  },
  {
   "cell_type": "code",
   "execution_count": null,
   "id": "594ebd23",
   "metadata": {},
   "outputs": [],
   "source": []
  },
  {
   "cell_type": "code",
   "execution_count": 152,
   "id": "f73184f1",
   "metadata": {
    "scrolled": true
   },
   "outputs": [
    {
     "data": {
      "text/plain": [
       "SVC()"
      ]
     },
     "execution_count": 152,
     "metadata": {},
     "output_type": "execute_result"
    }
   ],
   "source": [
    "model_svminjury = svm.SVC()\n",
    "model_svminjury.fit(X_injury_train,y_injury_train)"
   ]
  },
  {
   "cell_type": "code",
   "execution_count": 156,
   "id": "a7ba968d",
   "metadata": {},
   "outputs": [],
   "source": [
    "svmscoreinjury_test = model_svminjury.score(X_injury_test,y_injury_test)\n",
    "svmscoreinjury_train = model_svminjury.score(X_injury_train,y_injury_train)"
   ]
  },
  {
   "cell_type": "code",
   "execution_count": 157,
   "id": "b682ada7",
   "metadata": {},
   "outputs": [
    {
     "name": "stdout",
     "output_type": "stream",
     "text": [
      "Test score:  0.9902912621359223\n",
      "Train score:  0.9926650366748166\n"
     ]
    }
   ],
   "source": [
    "print('Test score: ',svmscoreinjury_test)\n",
    "print('Train score: ',svmscoreinjury_train)"
   ]
  },
  {
   "cell_type": "code",
   "execution_count": 154,
   "id": "76831bf8",
   "metadata": {},
   "outputs": [
    {
     "name": "stdout",
     "output_type": "stream",
     "text": [
      "length of X_injury_train:  409\n",
      "length of X_injury_test:  103\n",
      "length of y_injury_train:  409\n",
      "length of y_injury_test:  103\n"
     ]
    }
   ],
   "source": [
    "print('length of X_injury_train: ',len(X_injury_train))\n",
    "print('length of X_injury_test: ',len(X_injury_test))\n",
    "print('length of y_injury_train: ',len(y_injury_train))\n",
    "print('length of y_injury_test: ',len(y_injury_test))"
   ]
  },
  {
   "cell_type": "code",
   "execution_count": 153,
   "id": "f5522f7d",
   "metadata": {},
   "outputs": [
    {
     "data": {
      "text/plain": [
       "array([[  8,   4],\n",
       "       [  0, 500]], dtype=int64)"
      ]
     },
     "execution_count": 153,
     "metadata": {},
     "output_type": "execute_result"
    }
   ],
   "source": [
    "cm_svm_injury = confusion_matrix(y_injury,model_svminjury.predict(X))\n",
    "cm_svm_injury "
   ]
  },
  {
   "cell_type": "code",
   "execution_count": 155,
   "id": "00a6aa53",
   "metadata": {},
   "outputs": [
    {
     "data": {
      "image/png": "[encoded data removed]",
      "text/plain": [
       "<Figure size 432x288 with 2 Axes>"
      ]
     },
     "metadata": {
      "needs_background": "light"
     },
     "output_type": "display_data"
    }
   ],
   "source": [
    "%matplotlib inline\n",
    "sns.heatmap(cm_svm_injury,annot = True)\n",
    "plt.xlabel('y_true')\n",
    "plt.ylabel('y_predicted')\n",
    "plt.show()"
   ]
  },
  {
   "cell_type": "code",
   "execution_count": null,
   "id": "891eb247",
   "metadata": {},
   "outputs": [],
   "source": []
  },
  {
   "cell_type": "markdown",
   "id": "9d3b4509",
   "metadata": {},
   "source": [
    "### When comparing the two models , decision tree seems to have better accuracy"
   ]
  },
  {
   "cell_type": "markdown",
   "id": "5596ee2f",
   "metadata": {},
   "source": [
    "### Hence we can choose to go with Decision Tree"
   ]
  },
  {
   "cell_type": "code",
   "execution_count": null,
   "id": "3a066cf7",
   "metadata": {},
   "outputs": [],
   "source": []
  },
  {
   "cell_type": "code",
   "execution_count": 58,
   "id": "6122ac8e",
   "metadata": {
    "scrolled": true
   },
   "outputs": [
    {
     "data": {
      "text/html": [
       "<div>\n",
       "<style scoped>\n",
       "    .dataframe tbody tr th:only-of-type {\n",
       "        vertical-align: middle;\n",
       "    }\n",
       "\n",
       "    .dataframe tbody tr th {\n",
       "        vertical-align: top;\n",
       "    }\n",
       "\n",
       "    .dataframe thead th {\n",
       "        text-align: right;\n",
       "    }\n",
       "</style>\n",
       "<table border=\"1\" class=\"dataframe\">\n",
       "  <thead>\n",
       "    <tr style=\"text-align: right;\">\n",
       "      <th></th>\n",
       "      <th>Strong Structure</th>\n",
       "      <th>Support</th>\n",
       "      <th>Tightly Planked</th>\n",
       "      <th>Wear Proper harness</th>\n",
       "      <th>Distance from electric line &gt; 10 m</th>\n",
       "      <th>Base/Landing Surface</th>\n",
       "      <th>Proper PPE kits</th>\n",
       "      <th>Training to workers</th>\n",
       "      <th>Toeboard</th>\n",
       "      <th>Safe</th>\n",
       "      <th>Sever</th>\n",
       "      <th>Injury</th>\n",
       "    </tr>\n",
       "  </thead>\n",
       "  <tbody>\n",
       "    <tr>\n",
       "      <th>0</th>\n",
       "      <td>0</td>\n",
       "      <td>0</td>\n",
       "      <td>0</td>\n",
       "      <td>0</td>\n",
       "      <td>0</td>\n",
       "      <td>0</td>\n",
       "      <td>0</td>\n",
       "      <td>0</td>\n",
       "      <td>0</td>\n",
       "      <td>0</td>\n",
       "      <td>1</td>\n",
       "      <td>1</td>\n",
       "    </tr>\n",
       "    <tr>\n",
       "      <th>1</th>\n",
       "      <td>0</td>\n",
       "      <td>0</td>\n",
       "      <td>0</td>\n",
       "      <td>0</td>\n",
       "      <td>0</td>\n",
       "      <td>0</td>\n",
       "      <td>0</td>\n",
       "      <td>0</td>\n",
       "      <td>1</td>\n",
       "      <td>0</td>\n",
       "      <td>1</td>\n",
       "      <td>1</td>\n",
       "    </tr>\n",
       "    <tr>\n",
       "      <th>2</th>\n",
       "      <td>0</td>\n",
       "      <td>0</td>\n",
       "      <td>0</td>\n",
       "      <td>0</td>\n",
       "      <td>0</td>\n",
       "      <td>0</td>\n",
       "      <td>0</td>\n",
       "      <td>1</td>\n",
       "      <td>0</td>\n",
       "      <td>0</td>\n",
       "      <td>1</td>\n",
       "      <td>1</td>\n",
       "    </tr>\n",
       "    <tr>\n",
       "      <th>3</th>\n",
       "      <td>0</td>\n",
       "      <td>0</td>\n",
       "      <td>0</td>\n",
       "      <td>0</td>\n",
       "      <td>0</td>\n",
       "      <td>0</td>\n",
       "      <td>0</td>\n",
       "      <td>1</td>\n",
       "      <td>1</td>\n",
       "      <td>0</td>\n",
       "      <td>1</td>\n",
       "      <td>1</td>\n",
       "    </tr>\n",
       "    <tr>\n",
       "      <th>4</th>\n",
       "      <td>0</td>\n",
       "      <td>0</td>\n",
       "      <td>0</td>\n",
       "      <td>0</td>\n",
       "      <td>0</td>\n",
       "      <td>0</td>\n",
       "      <td>1</td>\n",
       "      <td>0</td>\n",
       "      <td>0</td>\n",
       "      <td>0</td>\n",
       "      <td>1</td>\n",
       "      <td>1</td>\n",
       "    </tr>\n",
       "  </tbody>\n",
       "</table>\n",
       "</div>"
      ],
      "text/plain": [
       "   Strong Structure  Support  Tightly Planked  Wear Proper harness  \\\n",
       "0                 0        0                0                    0   \n",
       "1                 0        0                0                    0   \n",
       "2                 0        0                0                    0   \n",
       "3                 0        0                0                    0   \n",
       "4                 0        0                0                    0   \n",
       "\n",
       "   Distance from electric line > 10 m  Base/Landing Surface  Proper PPE kits  \\\n",
       "0                                   0                     0                0   \n",
       "1                                   0                     0                0   \n",
       "2                                   0                     0                0   \n",
       "3                                   0                     0                0   \n",
       "4                                   0                     0                1   \n",
       "\n",
       "   Training to workers  Toeboard  Safe  Sever  Injury  \n",
       "0                    0         0     0      1       1  \n",
       "1                    0         1     0      1       1  \n",
       "2                    1         0     0      1       1  \n",
       "3                    1         1     0      1       1  \n",
       "4                    0         0     0      1       1  "
      ]
     },
     "execution_count": 58,
     "metadata": {},
     "output_type": "execute_result"
    }
   ],
   "source": [
    "df.head()"
   ]
  },
  {
   "cell_type": "code",
   "execution_count": null,
   "id": "dfb23314",
   "metadata": {},
   "outputs": [],
   "source": []
  },
  {
   "cell_type": "markdown",
   "id": "95a02ce4",
   "metadata": {},
   "source": [
    "## Questions"
   ]
  },
  {
   "cell_type": "code",
   "execution_count": 59,
   "id": "54fef9b4",
   "metadata": {},
   "outputs": [],
   "source": [
    "questions = {\n",
    "    \"Strong Structure\":\n",
    "       {\n",
    "        \"que\":\"Is the structure strong? \",\n",
    "        \"options\":[\"True\",\"False\"]  \n",
    "    },\n",
    "    \"Support\":\n",
    "       {\n",
    "        \"que\":\"Is there strong support for the scaffolding?\",\n",
    "        \"options\":[\"True\",\"False\"]  \n",
    "    },\n",
    "   \"Tightly Planked\t\":\n",
    "       {\n",
    "        \"que\":\"Is the scaffolding tightly planked? \",\n",
    "        \"options\":[\"True\",\"False\"]  \n",
    "    },\n",
    "    \"Wear Proper harness\":\n",
    "       {\n",
    "        \"que\":\"Are the workers wearing proper harness? \",\n",
    "        \"options\":[\"True\",\"False\"]  \n",
    "    },\n",
    "   \"Distance from electric line > 10 m\":\n",
    "       {\n",
    "        \"que\":\"Is the distance from electric line greater than 10m? \",\n",
    "        \"options\":[\"True\",\"False\"]  \n",
    "    },\n",
    "    \"Base/Landing Surface\":\n",
    "       {\n",
    "        \"que\":\"Is the base/landing surface smooth? \",\n",
    "        \"options\":[\"True\",\"False\"]  \n",
    "    },\n",
    "   \"Proper PPE kits\":\n",
    "       {\n",
    "        \"que\":\"Are the workers wearing proper PPE kits? \",\n",
    "        \"options\":[\"True\",\"False\"]  \n",
    "    },\n",
    "    \"Training to workers\":\n",
    "       {\n",
    "        \"que\":\"Are the workers properly trained with the safety protocols and methods? \",\n",
    "        \"options\":[\"True\",\"False\"]  \n",
    "    },\n",
    "    \"Toeboard\":\n",
    "        {\n",
    "        \"que\":\"Are there toeboards present?\",\n",
    "        \"options\":[\"True\",\"False\"]  \n",
    "    }\n",
    "    \n",
    "}"
   ]
  },
  {
   "cell_type": "code",
   "execution_count": 60,
   "id": "887c8d25",
   "metadata": {},
   "outputs": [
    {
     "data": {
      "text/plain": [
       "'True'"
      ]
     },
     "execution_count": 60,
     "metadata": {},
     "output_type": "execute_result"
    }
   ],
   "source": [
    "questions[\"Support\"][\"options\"][0]"
   ]
  },
  {
   "cell_type": "code",
   "execution_count": null,
   "id": "aec0b3b4",
   "metadata": {
    "scrolled": true
   },
   "outputs": [],
   "source": []
  },
  {
   "cell_type": "code",
   "execution_count": null,
   "id": "f1b84bae",
   "metadata": {},
   "outputs": [],
   "source": [
    "get and post method"
   ]
  }
 ],
 "metadata": {
  "kernelspec": {
   "display_name": "Python 3 (ipykernel)",
   "language": "python",
   "name": "python3"
  },
  "language_info": {
   "codemirror_mode": {
    "name": "ipython",
    "version": 3
   },
   "file_extension": ".py",
   "mimetype": "text/x-python",
   "name": "python",
   "nbconvert_exporter": "python",
   "pygments_lexer": "ipython3",
   "version": "3.9.7"
  }
 },
 "nbformat": 4,
 "nbformat_minor": 5
}
