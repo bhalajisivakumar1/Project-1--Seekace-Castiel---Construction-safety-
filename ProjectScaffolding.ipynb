{
 "cells": [
  {
   "cell_type": "code",
   "execution_count": 1,
   "id": "c93c4649",
   "metadata": {},
   "outputs": [],
   "source": [
    "import pandas as pd\n",
    "import matplotlib.pyplot as plt\n",
    "import seaborn as sns\n"
   ]
  },
  {
   "cell_type": "code",
   "execution_count": 2,
   "id": "f4939271",
   "metadata": {},
   "outputs": [],
   "source": [
    "df = pd.read_excel(r'C:\\Users\\acer\\truth_table.xlsx')"
   ]
  },
  {
   "cell_type": "code",
   "execution_count": 3,
   "id": "14d1b4e1",
   "metadata": {},
   "outputs": [
    {
     "data": {
      "text/html": [
       "<div>\n",
       "<style scoped>\n",
       "    .dataframe tbody tr th:only-of-type {\n",
       "        vertical-align: middle;\n",
       "    }\n",
       "\n",
       "    .dataframe tbody tr th {\n",
       "        vertical-align: top;\n",
       "    }\n",
       "\n",
       "    .dataframe thead th {\n",
       "        text-align: right;\n",
       "    }\n",
       "</style>\n",
       "<table border=\"1\" class=\"dataframe\">\n",
       "  <thead>\n",
       "    <tr style=\"text-align: right;\">\n",
       "      <th></th>\n",
       "      <th>Strong Structure</th>\n",
       "      <th>Support</th>\n",
       "      <th>Tightly Planked</th>\n",
       "      <th>Wear Proper harness</th>\n",
       "      <th>Distance from electric line &gt; 10 m</th>\n",
       "      <th>Base/Landing Surface</th>\n",
       "      <th>Proper PPE kits</th>\n",
       "      <th>Training to workers</th>\n",
       "      <th>Toeboard</th>\n",
       "      <th>Safe</th>\n",
       "      <th>Sever</th>\n",
       "      <th>Injury</th>\n",
       "    </tr>\n",
       "  </thead>\n",
       "  <tbody>\n",
       "    <tr>\n",
       "      <th>0</th>\n",
       "      <td>0</td>\n",
       "      <td>0</td>\n",
       "      <td>0</td>\n",
       "      <td>0</td>\n",
       "      <td>0</td>\n",
       "      <td>0</td>\n",
       "      <td>0</td>\n",
       "      <td>0</td>\n",
       "      <td>0</td>\n",
       "      <td>0</td>\n",
       "      <td>1</td>\n",
       "      <td>1</td>\n",
       "    </tr>\n",
       "    <tr>\n",
       "      <th>1</th>\n",
       "      <td>0</td>\n",
       "      <td>0</td>\n",
       "      <td>0</td>\n",
       "      <td>0</td>\n",
       "      <td>0</td>\n",
       "      <td>0</td>\n",
       "      <td>0</td>\n",
       "      <td>0</td>\n",
       "      <td>1</td>\n",
       "      <td>0</td>\n",
       "      <td>1</td>\n",
       "      <td>1</td>\n",
       "    </tr>\n",
       "    <tr>\n",
       "      <th>2</th>\n",
       "      <td>0</td>\n",
       "      <td>0</td>\n",
       "      <td>0</td>\n",
       "      <td>0</td>\n",
       "      <td>0</td>\n",
       "      <td>0</td>\n",
       "      <td>0</td>\n",
       "      <td>1</td>\n",
       "      <td>0</td>\n",
       "      <td>0</td>\n",
       "      <td>1</td>\n",
       "      <td>1</td>\n",
       "    </tr>\n",
       "    <tr>\n",
       "      <th>3</th>\n",
       "      <td>0</td>\n",
       "      <td>0</td>\n",
       "      <td>0</td>\n",
       "      <td>0</td>\n",
       "      <td>0</td>\n",
       "      <td>0</td>\n",
       "      <td>0</td>\n",
       "      <td>1</td>\n",
       "      <td>1</td>\n",
       "      <td>0</td>\n",
       "      <td>1</td>\n",
       "      <td>1</td>\n",
       "    </tr>\n",
       "    <tr>\n",
       "      <th>4</th>\n",
       "      <td>0</td>\n",
       "      <td>0</td>\n",
       "      <td>0</td>\n",
       "      <td>0</td>\n",
       "      <td>0</td>\n",
       "      <td>0</td>\n",
       "      <td>1</td>\n",
       "      <td>0</td>\n",
       "      <td>0</td>\n",
       "      <td>0</td>\n",
       "      <td>1</td>\n",
       "      <td>1</td>\n",
       "    </tr>\n",
       "    <tr>\n",
       "      <th>...</th>\n",
       "      <td>...</td>\n",
       "      <td>...</td>\n",
       "      <td>...</td>\n",
       "      <td>...</td>\n",
       "      <td>...</td>\n",
       "      <td>...</td>\n",
       "      <td>...</td>\n",
       "      <td>...</td>\n",
       "      <td>...</td>\n",
       "      <td>...</td>\n",
       "      <td>...</td>\n",
       "      <td>...</td>\n",
       "    </tr>\n",
       "    <tr>\n",
       "      <th>507</th>\n",
       "      <td>1</td>\n",
       "      <td>1</td>\n",
       "      <td>1</td>\n",
       "      <td>1</td>\n",
       "      <td>1</td>\n",
       "      <td>1</td>\n",
       "      <td>0</td>\n",
       "      <td>1</td>\n",
       "      <td>1</td>\n",
       "      <td>0</td>\n",
       "      <td>1</td>\n",
       "      <td>1</td>\n",
       "    </tr>\n",
       "    <tr>\n",
       "      <th>508</th>\n",
       "      <td>1</td>\n",
       "      <td>1</td>\n",
       "      <td>1</td>\n",
       "      <td>1</td>\n",
       "      <td>1</td>\n",
       "      <td>1</td>\n",
       "      <td>1</td>\n",
       "      <td>0</td>\n",
       "      <td>0</td>\n",
       "      <td>0</td>\n",
       "      <td>0</td>\n",
       "      <td>1</td>\n",
       "    </tr>\n",
       "    <tr>\n",
       "      <th>509</th>\n",
       "      <td>1</td>\n",
       "      <td>1</td>\n",
       "      <td>1</td>\n",
       "      <td>1</td>\n",
       "      <td>1</td>\n",
       "      <td>1</td>\n",
       "      <td>1</td>\n",
       "      <td>0</td>\n",
       "      <td>1</td>\n",
       "      <td>0</td>\n",
       "      <td>0</td>\n",
       "      <td>1</td>\n",
       "    </tr>\n",
       "    <tr>\n",
       "      <th>510</th>\n",
       "      <td>1</td>\n",
       "      <td>1</td>\n",
       "      <td>1</td>\n",
       "      <td>1</td>\n",
       "      <td>1</td>\n",
       "      <td>1</td>\n",
       "      <td>1</td>\n",
       "      <td>1</td>\n",
       "      <td>0</td>\n",
       "      <td>1</td>\n",
       "      <td>0</td>\n",
       "      <td>0</td>\n",
       "    </tr>\n",
       "    <tr>\n",
       "      <th>511</th>\n",
       "      <td>1</td>\n",
       "      <td>1</td>\n",
       "      <td>1</td>\n",
       "      <td>1</td>\n",
       "      <td>1</td>\n",
       "      <td>1</td>\n",
       "      <td>1</td>\n",
       "      <td>1</td>\n",
       "      <td>1</td>\n",
       "      <td>1</td>\n",
       "      <td>0</td>\n",
       "      <td>0</td>\n",
       "    </tr>\n",
       "  </tbody>\n",
       "</table>\n",
       "<p>512 rows × 12 columns</p>\n",
       "</div>"
      ],
      "text/plain": [
       "     Strong Structure  Support  Tightly Planked  Wear Proper harness  \\\n",
       "0                   0        0                0                    0   \n",
       "1                   0        0                0                    0   \n",
       "2                   0        0                0                    0   \n",
       "3                   0        0                0                    0   \n",
       "4                   0        0                0                    0   \n",
       "..                ...      ...              ...                  ...   \n",
       "507                 1        1                1                    1   \n",
       "508                 1        1                1                    1   \n",
       "509                 1        1                1                    1   \n",
       "510                 1        1                1                    1   \n",
       "511                 1        1                1                    1   \n",
       "\n",
       "     Distance from electric line > 10 m  Base/Landing Surface  \\\n",
       "0                                     0                     0   \n",
       "1                                     0                     0   \n",
       "2                                     0                     0   \n",
       "3                                     0                     0   \n",
       "4                                     0                     0   \n",
       "..                                  ...                   ...   \n",
       "507                                   1                     1   \n",
       "508                                   1                     1   \n",
       "509                                   1                     1   \n",
       "510                                   1                     1   \n",
       "511                                   1                     1   \n",
       "\n",
       "     Proper PPE kits  Training to workers  Toeboard  Safe  Sever  Injury  \n",
       "0                  0                    0         0     0      1       1  \n",
       "1                  0                    0         1     0      1       1  \n",
       "2                  0                    1         0     0      1       1  \n",
       "3                  0                    1         1     0      1       1  \n",
       "4                  1                    0         0     0      1       1  \n",
       "..               ...                  ...       ...   ...    ...     ...  \n",
       "507                0                    1         1     0      1       1  \n",
       "508                1                    0         0     0      0       1  \n",
       "509                1                    0         1     0      0       1  \n",
       "510                1                    1         0     1      0       0  \n",
       "511                1                    1         1     1      0       0  \n",
       "\n",
       "[512 rows x 12 columns]"
      ]
     },
     "execution_count": 3,
     "metadata": {},
     "output_type": "execute_result"
    }
   ],
   "source": [
    "df"
   ]
  },
  {
   "cell_type": "code",
   "execution_count": 4,
   "id": "56e9d77c",
   "metadata": {},
   "outputs": [
    {
     "data": {
      "text/html": [
       "<div>\n",
       "<style scoped>\n",
       "    .dataframe tbody tr th:only-of-type {\n",
       "        vertical-align: middle;\n",
       "    }\n",
       "\n",
       "    .dataframe tbody tr th {\n",
       "        vertical-align: top;\n",
       "    }\n",
       "\n",
       "    .dataframe thead th {\n",
       "        text-align: right;\n",
       "    }\n",
       "</style>\n",
       "<table border=\"1\" class=\"dataframe\">\n",
       "  <thead>\n",
       "    <tr style=\"text-align: right;\">\n",
       "      <th></th>\n",
       "      <th>Strong Structure</th>\n",
       "      <th>Support</th>\n",
       "      <th>Tightly Planked</th>\n",
       "      <th>Wear Proper harness</th>\n",
       "      <th>Distance from electric line &gt; 10 m</th>\n",
       "      <th>Base/Landing Surface</th>\n",
       "      <th>Proper PPE kits</th>\n",
       "      <th>Training to workers</th>\n",
       "      <th>Toeboard</th>\n",
       "      <th>Safe</th>\n",
       "      <th>Sever</th>\n",
       "      <th>Injury</th>\n",
       "    </tr>\n",
       "  </thead>\n",
       "  <tbody>\n",
       "    <tr>\n",
       "      <th>0</th>\n",
       "      <td>0</td>\n",
       "      <td>0</td>\n",
       "      <td>0</td>\n",
       "      <td>0</td>\n",
       "      <td>0</td>\n",
       "      <td>0</td>\n",
       "      <td>0</td>\n",
       "      <td>0</td>\n",
       "      <td>0</td>\n",
       "      <td>0</td>\n",
       "      <td>1</td>\n",
       "      <td>1</td>\n",
       "    </tr>\n",
       "    <tr>\n",
       "      <th>1</th>\n",
       "      <td>0</td>\n",
       "      <td>0</td>\n",
       "      <td>0</td>\n",
       "      <td>0</td>\n",
       "      <td>0</td>\n",
       "      <td>0</td>\n",
       "      <td>0</td>\n",
       "      <td>0</td>\n",
       "      <td>1</td>\n",
       "      <td>0</td>\n",
       "      <td>1</td>\n",
       "      <td>1</td>\n",
       "    </tr>\n",
       "    <tr>\n",
       "      <th>2</th>\n",
       "      <td>0</td>\n",
       "      <td>0</td>\n",
       "      <td>0</td>\n",
       "      <td>0</td>\n",
       "      <td>0</td>\n",
       "      <td>0</td>\n",
       "      <td>0</td>\n",
       "      <td>1</td>\n",
       "      <td>0</td>\n",
       "      <td>0</td>\n",
       "      <td>1</td>\n",
       "      <td>1</td>\n",
       "    </tr>\n",
       "    <tr>\n",
       "      <th>3</th>\n",
       "      <td>0</td>\n",
       "      <td>0</td>\n",
       "      <td>0</td>\n",
       "      <td>0</td>\n",
       "      <td>0</td>\n",
       "      <td>0</td>\n",
       "      <td>0</td>\n",
       "      <td>1</td>\n",
       "      <td>1</td>\n",
       "      <td>0</td>\n",
       "      <td>1</td>\n",
       "      <td>1</td>\n",
       "    </tr>\n",
       "    <tr>\n",
       "      <th>4</th>\n",
       "      <td>0</td>\n",
       "      <td>0</td>\n",
       "      <td>0</td>\n",
       "      <td>0</td>\n",
       "      <td>0</td>\n",
       "      <td>0</td>\n",
       "      <td>1</td>\n",
       "      <td>0</td>\n",
       "      <td>0</td>\n",
       "      <td>0</td>\n",
       "      <td>1</td>\n",
       "      <td>1</td>\n",
       "    </tr>\n",
       "  </tbody>\n",
       "</table>\n",
       "</div>"
      ],
      "text/plain": [
       "   Strong Structure  Support  Tightly Planked  Wear Proper harness  \\\n",
       "0                 0        0                0                    0   \n",
       "1                 0        0                0                    0   \n",
       "2                 0        0                0                    0   \n",
       "3                 0        0                0                    0   \n",
       "4                 0        0                0                    0   \n",
       "\n",
       "   Distance from electric line > 10 m  Base/Landing Surface  Proper PPE kits  \\\n",
       "0                                   0                     0                0   \n",
       "1                                   0                     0                0   \n",
       "2                                   0                     0                0   \n",
       "3                                   0                     0                0   \n",
       "4                                   0                     0                1   \n",
       "\n",
       "   Training to workers  Toeboard  Safe  Sever  Injury  \n",
       "0                    0         0     0      1       1  \n",
       "1                    0         1     0      1       1  \n",
       "2                    1         0     0      1       1  \n",
       "3                    1         1     0      1       1  \n",
       "4                    0         0     0      1       1  "
      ]
     },
     "execution_count": 4,
     "metadata": {},
     "output_type": "execute_result"
    }
   ],
   "source": [
    "df.head()"
   ]
  },
  {
   "cell_type": "code",
   "execution_count": 5,
   "id": "6e97d89d",
   "metadata": {},
   "outputs": [
    {
     "name": "stdout",
     "output_type": "stream",
     "text": [
      "<class 'pandas.core.frame.DataFrame'>\n",
      "RangeIndex: 512 entries, 0 to 511\n",
      "Data columns (total 12 columns):\n",
      " #   Column                              Non-Null Count  Dtype\n",
      "---  ------                              --------------  -----\n",
      " 0   Strong Structure                    512 non-null    int64\n",
      " 1   Support                             512 non-null    int64\n",
      " 2   Tightly Planked                     512 non-null    int64\n",
      " 3   Wear Proper harness                 512 non-null    int64\n",
      " 4   Distance from electric line > 10 m  512 non-null    int64\n",
      " 5   Base/Landing Surface                512 non-null    int64\n",
      " 6   Proper PPE kits                     512 non-null    int64\n",
      " 7   Training to workers                 512 non-null    int64\n",
      " 8   Toeboard                            512 non-null    int64\n",
      " 9   Safe                                512 non-null    int64\n",
      " 10  Sever                               512 non-null    int64\n",
      " 11  Injury                              512 non-null    int64\n",
      "dtypes: int64(12)\n",
      "memory usage: 48.1 KB\n"
     ]
    }
   ],
   "source": [
    "df.info()"
   ]
  },
  {
   "cell_type": "markdown",
   "id": "eca7163f",
   "metadata": {},
   "source": [
    "# Building the model"
   ]
  },
  {
   "cell_type": "markdown",
   "id": "be9f926b",
   "metadata": {},
   "source": [
    "# 1. Decision tree"
   ]
  },
  {
   "cell_type": "markdown",
   "id": "17cc4dbf",
   "metadata": {},
   "source": [
    "## A)For safe cases:"
   ]
  },
  {
   "cell_type": "code",
   "execution_count": 6,
   "id": "e3d92240",
   "metadata": {},
   "outputs": [],
   "source": [
    "from sklearn.model_selection import train_test_split"
   ]
  },
  {
   "cell_type": "code",
   "execution_count": 7,
   "id": "f32f8166",
   "metadata": {},
   "outputs": [],
   "source": [
    "from sklearn import tree\n",
    "model = tree.DecisionTreeClassifier()"
   ]
  },
  {
   "cell_type": "code",
   "execution_count": 8,
   "id": "d36269d1",
   "metadata": {},
   "outputs": [],
   "source": [
    "X = df.drop(['Safe','Sever','Injury'],axis = 1)\n"
   ]
  },
  {
   "cell_type": "code",
   "execution_count": 9,
   "id": "4b00704a",
   "metadata": {},
   "outputs": [],
   "source": [
    "y = df['Safe']"
   ]
  },
  {
   "cell_type": "code",
   "execution_count": 10,
   "id": "f0ad9b14",
   "metadata": {},
   "outputs": [],
   "source": [
    "X_train,X_test,y_train,y_test = train_test_split(X,y,test_size=0.1)"
   ]
  },
  {
   "cell_type": "markdown",
   "id": "5107976a",
   "metadata": {},
   "source": [
    "### Calculating the lengths"
   ]
  },
  {
   "cell_type": "code",
   "execution_count": 11,
   "id": "83354195",
   "metadata": {},
   "outputs": [
    {
     "data": {
      "text/plain": [
       "460"
      ]
     },
     "execution_count": 11,
     "metadata": {},
     "output_type": "execute_result"
    }
   ],
   "source": [
    "len(X_train)\n"
   ]
  },
  {
   "cell_type": "code",
   "execution_count": 12,
   "id": "3274d2d7",
   "metadata": {
    "scrolled": true
   },
   "outputs": [
    {
     "data": {
      "text/plain": [
       "52"
      ]
     },
     "execution_count": 12,
     "metadata": {},
     "output_type": "execute_result"
    }
   ],
   "source": [
    "len(X_test)"
   ]
  },
  {
   "cell_type": "code",
   "execution_count": 13,
   "id": "fe403199",
   "metadata": {},
   "outputs": [
    {
     "data": {
      "text/plain": [
       "52"
      ]
     },
     "execution_count": 13,
     "metadata": {},
     "output_type": "execute_result"
    }
   ],
   "source": [
    "len(y_test)"
   ]
  },
  {
   "cell_type": "code",
   "execution_count": 14,
   "id": "66915e70",
   "metadata": {
    "scrolled": true
   },
   "outputs": [
    {
     "data": {
      "text/plain": [
       "460"
      ]
     },
     "execution_count": 14,
     "metadata": {},
     "output_type": "execute_result"
    }
   ],
   "source": [
    "len(y_train)"
   ]
  },
  {
   "cell_type": "markdown",
   "id": "acf68329",
   "metadata": {},
   "source": [
    "### Fitting the model"
   ]
  },
  {
   "cell_type": "code",
   "execution_count": 15,
   "id": "8a774089",
   "metadata": {},
   "outputs": [
    {
     "data": {
      "text/plain": [
       "DecisionTreeClassifier()"
      ]
     },
     "execution_count": 15,
     "metadata": {},
     "output_type": "execute_result"
    }
   ],
   "source": [
    "model.fit(X_train,y_train)"
   ]
  },
  {
   "cell_type": "markdown",
   "id": "2157a537",
   "metadata": {},
   "source": [
    "### Prediction"
   ]
  },
  {
   "cell_type": "code",
   "execution_count": 16,
   "id": "ade61d51",
   "metadata": {},
   "outputs": [
    {
     "data": {
      "text/plain": [
       "array([0], dtype=int64)"
      ]
     },
     "execution_count": 16,
     "metadata": {},
     "output_type": "execute_result"
    }
   ],
   "source": [
    "model.predict([[0,0,0,1,1,1,0,0,1]])"
   ]
  },
  {
   "cell_type": "code",
   "execution_count": 17,
   "id": "bd26e5c4",
   "metadata": {
    "scrolled": true
   },
   "outputs": [
    {
     "data": {
      "text/plain": [
       "array([1], dtype=int64)"
      ]
     },
     "execution_count": 17,
     "metadata": {},
     "output_type": "execute_result"
    }
   ],
   "source": [
    "model.predict([[1,1,1,1,1,0,1,1,0]])"
   ]
  },
  {
   "cell_type": "code",
   "execution_count": 18,
   "id": "966bed30",
   "metadata": {},
   "outputs": [],
   "source": [
    "y_predicted = model.predict(X_test)"
   ]
  },
  {
   "cell_type": "code",
   "execution_count": 51,
   "id": "0720eb33",
   "metadata": {},
   "outputs": [],
   "source": [
    "import pickle"
   ]
  },
  {
   "cell_type": "code",
   "execution_count": 52,
   "id": "e6c9367a",
   "metadata": {},
   "outputs": [],
   "source": [
    "pickle.dump(model, open('model.pkl','wb'))"
   ]
  },
  {
   "cell_type": "code",
   "execution_count": 19,
   "id": "1afea00b",
   "metadata": {},
   "outputs": [
    {
     "data": {
      "text/plain": [
       "1.0"
      ]
     },
     "execution_count": 19,
     "metadata": {},
     "output_type": "execute_result"
    }
   ],
   "source": [
    "model.score(X_test,y_test)"
   ]
  },
  {
   "cell_type": "markdown",
   "id": "adcf32fa",
   "metadata": {},
   "source": [
    "### Confusion matrix"
   ]
  },
  {
   "cell_type": "code",
   "execution_count": 20,
   "id": "45fb41e8",
   "metadata": {},
   "outputs": [],
   "source": [
    "from sklearn.metrics import confusion_matrix"
   ]
  },
  {
   "cell_type": "code",
   "execution_count": 21,
   "id": "289998d1",
   "metadata": {},
   "outputs": [],
   "source": [
    "cm = confusion_matrix(y_test,y_predicted)"
   ]
  },
  {
   "cell_type": "code",
   "execution_count": 22,
   "id": "20b6297f",
   "metadata": {},
   "outputs": [
    {
     "data": {
      "text/plain": [
       "array([[52]], dtype=int64)"
      ]
     },
     "execution_count": 22,
     "metadata": {},
     "output_type": "execute_result"
    }
   ],
   "source": [
    "cm"
   ]
  },
  {
   "cell_type": "markdown",
   "id": "b1a2bce0",
   "metadata": {},
   "source": [
    "### Classification Report"
   ]
  },
  {
   "cell_type": "code",
   "execution_count": 23,
   "id": "29ef71e5",
   "metadata": {},
   "outputs": [],
   "source": [
    "from sklearn.metrics import classification_report"
   ]
  },
  {
   "cell_type": "code",
   "execution_count": 24,
   "id": "5cecf179",
   "metadata": {},
   "outputs": [
    {
     "name": "stdout",
     "output_type": "stream",
     "text": [
      "              precision    recall  f1-score   support\n",
      "\n",
      "           0       1.00      1.00      1.00        52\n",
      "\n",
      "    accuracy                           1.00        52\n",
      "   macro avg       1.00      1.00      1.00        52\n",
      "weighted avg       1.00      1.00      1.00        52\n",
      "\n"
     ]
    }
   ],
   "source": [
    "print(classification_report(y_test, y_predicted))"
   ]
  },
  {
   "cell_type": "markdown",
   "id": "81ff8baf",
   "metadata": {},
   "source": [
    "## B) For sever cases:"
   ]
  },
  {
   "cell_type": "code",
   "execution_count": 25,
   "id": "a57ae5c6",
   "metadata": {},
   "outputs": [],
   "source": [
    "y_sever = df['Sever']"
   ]
  },
  {
   "cell_type": "code",
   "execution_count": 26,
   "id": "ea174159",
   "metadata": {},
   "outputs": [],
   "source": [
    "X_sever_train,X_sever_test,y_sever_train,y_sever_test = train_test_split(X,y_sever,test_size=0.1)"
   ]
  },
  {
   "cell_type": "code",
   "execution_count": 27,
   "id": "d162f6de",
   "metadata": {},
   "outputs": [
    {
     "name": "stdout",
     "output_type": "stream",
     "text": [
      "length of X_sever_train:  460\n",
      "length of X_sever_test:  52\n",
      "length of y_sever_train:  460\n",
      "length of y_sever_test:  52\n"
     ]
    }
   ],
   "source": [
    "print('length of X_sever_train: ',len(X_sever_train))\n",
    "print('length of X_sever_test: ',len(X_sever_test))\n",
    "print('length of y_sever_train: ',len(y_sever_train))\n",
    "print('length of y_sever_test: ',len(y_sever_test))"
   ]
  },
  {
   "cell_type": "code",
   "execution_count": 28,
   "id": "c6af90c8",
   "metadata": {},
   "outputs": [],
   "source": [
    "model_sever = tree.DecisionTreeClassifier()"
   ]
  },
  {
   "cell_type": "code",
   "execution_count": 29,
   "id": "d018c9c0",
   "metadata": {},
   "outputs": [
    {
     "data": {
      "text/plain": [
       "DecisionTreeClassifier()"
      ]
     },
     "execution_count": 29,
     "metadata": {},
     "output_type": "execute_result"
    }
   ],
   "source": [
    "model_sever.fit(X_sever_train,y_sever_train)"
   ]
  },
  {
   "cell_type": "code",
   "execution_count": 30,
   "id": "52873283",
   "metadata": {},
   "outputs": [],
   "source": [
    "y_sever_predicted = model_sever.predict(X_sever_test)"
   ]
  },
  {
   "cell_type": "code",
   "execution_count": 53,
   "id": "bf540e87",
   "metadata": {},
   "outputs": [],
   "source": [
    "pickle.dump(model_sever, open('model_sever.pkl','wb'))"
   ]
  },
  {
   "cell_type": "code",
   "execution_count": 31,
   "id": "8476be70",
   "metadata": {},
   "outputs": [],
   "source": [
    "\n",
    "model_test_s = model_sever.score(X_sever_test,y_sever_test)\n",
    "model_train_s = model_sever.score(X_sever_train,y_sever_train)"
   ]
  },
  {
   "cell_type": "code",
   "execution_count": 32,
   "id": "4b42a60f",
   "metadata": {},
   "outputs": [
    {
     "name": "stdout",
     "output_type": "stream",
     "text": [
      "Test score:  1.0\n",
      "Train score:  1.0\n"
     ]
    }
   ],
   "source": [
    "print('Test score: ',model_test_s)\n",
    "print('Train score: ',model_train_s)"
   ]
  },
  {
   "cell_type": "code",
   "execution_count": 33,
   "id": "c71c5ddc",
   "metadata": {},
   "outputs": [],
   "source": [
    "cm_sever = confusion_matrix(y_sever_test,y_sever_predicted)"
   ]
  },
  {
   "cell_type": "code",
   "execution_count": 34,
   "id": "af4f87e1",
   "metadata": {},
   "outputs": [
    {
     "data": {
      "text/plain": [
       "array([[ 1,  0],\n",
       "       [ 0, 51]], dtype=int64)"
      ]
     },
     "execution_count": 34,
     "metadata": {},
     "output_type": "execute_result"
    }
   ],
   "source": [
    "cm_sever"
   ]
  },
  {
   "cell_type": "code",
   "execution_count": 35,
   "id": "787a754f",
   "metadata": {},
   "outputs": [
    {
     "data": {
      "image/png": "[encoded data removed]",
      "text/plain": [
       "<Figure size 432x288 with 2 Axes>"
      ]
     },
     "metadata": {
      "needs_background": "light"
     },
     "output_type": "display_data"
    }
   ],
   "source": [
    "%matplotlib inline\n",
    "sns.heatmap(cm_sever,annot = True)\n",
    "plt.xlabel('y_true')\n",
    "plt.ylabel('y_predicted')\n",
    "plt.show()\n"
   ]
  },
  {
   "cell_type": "code",
   "execution_count": 36,
   "id": "baf5f9a7",
   "metadata": {},
   "outputs": [
    {
     "data": {
      "text/plain": [
       "array([1], dtype=int64)"
      ]
     },
     "execution_count": 36,
     "metadata": {},
     "output_type": "execute_result"
    }
   ],
   "source": [
    "model_sever.predict([[0,0,0,0,0,1,0,0,1]])"
   ]
  },
  {
   "cell_type": "markdown",
   "id": "114b3c97",
   "metadata": {},
   "source": [
    "## C) For Injury cases : "
   ]
  },
  {
   "cell_type": "code",
   "execution_count": 37,
   "id": "c9192759",
   "metadata": {},
   "outputs": [],
   "source": [
    "y_injury = df['Sever']"
   ]
  },
  {
   "cell_type": "code",
   "execution_count": 38,
   "id": "85b3aa5b",
   "metadata": {},
   "outputs": [],
   "source": [
    "X_injury_train,X_injury_test,y_injury_train,y_injury_test = train_test_split(X,y_injury,test_size=0.1)"
   ]
  },
  {
   "cell_type": "code",
   "execution_count": 39,
   "id": "e00847ad",
   "metadata": {},
   "outputs": [
    {
     "name": "stdout",
     "output_type": "stream",
     "text": [
      "length of X_injury_train:  460\n",
      "length of X_injury_test:  52\n",
      "length of y_injury_train:  460\n",
      "length of y_injury_test:  52\n"
     ]
    }
   ],
   "source": [
    "print('length of X_injury_train: ',len(X_injury_train))\n",
    "print('length of X_injury_test: ',len(X_injury_test))\n",
    "print('length of y_injury_train: ',len(y_injury_train))\n",
    "print('length of y_injury_test: ',len(y_injury_test))"
   ]
  },
  {
   "cell_type": "code",
   "execution_count": 40,
   "id": "30c43539",
   "metadata": {},
   "outputs": [],
   "source": [
    "model_injury = tree.DecisionTreeClassifier()"
   ]
  },
  {
   "cell_type": "code",
   "execution_count": 41,
   "id": "77913029",
   "metadata": {},
   "outputs": [
    {
     "data": {
      "text/plain": [
       "DecisionTreeClassifier()"
      ]
     },
     "execution_count": 41,
     "metadata": {},
     "output_type": "execute_result"
    }
   ],
   "source": [
    "model_injury.fit(X_injury_train,y_injury_train)"
   ]
  },
  {
   "cell_type": "code",
   "execution_count": 42,
   "id": "5f432949",
   "metadata": {},
   "outputs": [],
   "source": [
    "y_injury_predicted = model_injury.predict(X_injury_test)"
   ]
  },
  {
   "cell_type": "code",
   "execution_count": 43,
   "id": "95e27734",
   "metadata": {},
   "outputs": [],
   "source": [
    "model_test_i = model_injury.score(X_injury_test,y_injury_test)\n",
    "model_train_i = model_injury.score(X_injury_train,y_injury_train)"
   ]
  },
  {
   "cell_type": "code",
   "execution_count": 44,
   "id": "c82f7053",
   "metadata": {},
   "outputs": [
    {
     "name": "stdout",
     "output_type": "stream",
     "text": [
      "Test score:  1.0\n",
      "Train score:  1.0\n"
     ]
    }
   ],
   "source": [
    "print('Test score: ',model_test_i)\n",
    "print('Train score: ',model_train_i)"
   ]
  },
  {
   "cell_type": "code",
   "execution_count": 54,
   "id": "07406d74",
   "metadata": {},
   "outputs": [],
   "source": [
    "pickle.dump(model_injury, open('model_injury.pkl','wb'))"
   ]
  },
  {
   "cell_type": "code",
   "execution_count": 45,
   "id": "b1e9f01c",
   "metadata": {},
   "outputs": [],
   "source": [
    "cm_injury = confusion_matrix(y_injury_test,y_injury_predicted)"
   ]
  },
  {
   "cell_type": "code",
   "execution_count": 46,
   "id": "ee2b073a",
   "metadata": {},
   "outputs": [
    {
     "data": {
      "text/plain": [
       "array([[52]], dtype=int64)"
      ]
     },
     "execution_count": 46,
     "metadata": {},
     "output_type": "execute_result"
    }
   ],
   "source": [
    "cm_injury"
   ]
  },
  {
   "cell_type": "code",
   "execution_count": 47,
   "id": "55c1b7d9",
   "metadata": {},
   "outputs": [
    {
     "data": {
      "image/png": "[encoded data removed]",
      "text/plain": [
       "<Figure size 432x288 with 2 Axes>"
      ]
     },
     "metadata": {
      "needs_background": "light"
     },
     "output_type": "display_data"
    }
   ],
   "source": [
    "%matplotlib inline\n",
    "sns.heatmap(cm_injury,annot = True)\n",
    "plt.xlabel('y_true')\n",
    "plt.ylabel('y_predicted')\n",
    "plt.show()"
   ]
  },
  {
   "cell_type": "markdown",
   "id": "337baaa0",
   "metadata": {},
   "source": [
    "# 2. Logistic Regression"
   ]
  },
  {
   "cell_type": "code",
   "execution_count": null,
   "id": "841f7f87",
   "metadata": {},
   "outputs": [],
   "source": [
    "from sklearn.linear_model import Logistic Re"
   ]
  },
  {
   "cell_type": "code",
   "execution_count": null,
   "id": "9392f40a",
   "metadata": {},
   "outputs": [],
   "source": []
  }
 ],
 "metadata": {
  "kernelspec": {
   "display_name": "Python 3 (ipykernel)",
   "language": "python",
   "name": "python3"
  },
  "language_info": {
   "codemirror_mode": {
    "name": "ipython",
    "version": 3
   },
   "file_extension": ".py",
   "mimetype": "text/x-python",
   "name": "python",
   "nbconvert_exporter": "python",
   "pygments_lexer": "ipython3",
   "version": "3.9.7"
  }
 },
 "nbformat": 4,
 "nbformat_minor": 5
}
