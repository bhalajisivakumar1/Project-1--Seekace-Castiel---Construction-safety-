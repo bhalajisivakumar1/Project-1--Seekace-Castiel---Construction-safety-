{
 "cells": [
  {
   "cell_type": "code",
   "execution_count": 2,
   "id": "55b28636",
   "metadata": {},
   "outputs": [
    {
     "name": "stdout",
     "output_type": "stream",
     "text": [
      "0000000000111111111122222222223333333333444444444455555555556666666666777777777788888888889999999999"
     ]
    }
   ],
   "source": [
    "for i in range(0,10):\n",
    "    for j in range (0,10):\n",
    "        print(i)"
   ]
  },
  {
   "cell_type": "code",
   "execution_count": 3,
   "id": "0f53c71f",
   "metadata": {},
   "outputs": [],
   "source": [
    "import pandas as pd"
   ]
  },
  {
   "cell_type": "code",
   "execution_count": 10,
   "id": "a1140274",
   "metadata": {},
   "outputs": [],
   "source": [
    "df = pd.read_csv(r'C:\\Users\\acer\\Documents\\truthTable.txt')"
   ]
  },
  {
   "cell_type": "code",
   "execution_count": 16,
   "id": "0b915b32",
   "metadata": {},
   "outputs": [],
   "source": [
    "df.to_csv(\"truth_table.csv\") "
   ]
  },
  {
   "cell_type": "code",
   "execution_count": 18,
   "id": "1b04d593",
   "metadata": {},
   "outputs": [],
   "source": [
    "data = pd.DataFrame(df)"
   ]
  },
  {
   "cell_type": "code",
   "execution_count": 21,
   "id": "7fd6e4e3",
   "metadata": {},
   "outputs": [],
   "source": [
    "data.to_excel('truth_tabel.xlsx')"
   ]
  }
 ],
 "metadata": {
  "kernelspec": {
   "display_name": "Python 3 (ipykernel)",
   "language": "python",
   "name": "python3"
  },
  "language_info": {
   "codemirror_mode": {
    "name": "ipython",
    "version": 3
   },
   "file_extension": ".py",
   "mimetype": "text/x-python",
   "name": "python",
   "nbconvert_exporter": "python",
   "pygments_lexer": "ipython3",
   "version": "3.9.7"
  }
 },
 "nbformat": 4,
 "nbformat_minor": 5
}
