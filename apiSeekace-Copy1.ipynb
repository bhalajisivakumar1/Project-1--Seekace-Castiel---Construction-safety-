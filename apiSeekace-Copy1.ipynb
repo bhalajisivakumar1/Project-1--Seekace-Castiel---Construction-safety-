{
 "cells": [
  {
   "cell_type": "code",
   "execution_count": 6,
   "id": "e6433992",
   "metadata": {
    "scrolled": false
   },
   "outputs": [
    {
     "name": "stdout",
     "output_type": "stream",
     "text": [
      "Collecting flask_restful\n",
      "  Downloading Flask_RESTful-0.3.9-py2.py3-none-any.whl (25 kB)\n",
      "Requirement already satisfied: pytz in c:\\users\\acer\\anaconda3\\lib\\site-packages (from flask_restful) (2021.3)\n",
      "Requirement already satisfied: six>=1.3.0 in c:\\users\\acer\\anaconda3\\lib\\site-packages (from flask_restful) (1.16.0)\n",
      "Collecting aniso8601>=0.82\n",
      "  Downloading aniso8601-9.0.1-py2.py3-none-any.whl (52 kB)\n",
      "Requirement already satisfied: Flask>=0.8 in c:\\users\\acer\\anaconda3\\lib\\site-packages (from flask_restful) (1.1.2)\n",
      "Requirement already satisfied: click>=5.1 in c:\\users\\acer\\anaconda3\\lib\\site-packages (from Flask>=0.8->flask_restful) (8.0.3)\n",
      "Requirement already satisfied: Jinja2>=2.10.1 in c:\\users\\acer\\anaconda3\\lib\\site-packages (from Flask>=0.8->flask_restful) (2.11.3)\n",
      "Requirement already satisfied: Werkzeug>=0.15 in c:\\users\\acer\\anaconda3\\lib\\site-packages (from Flask>=0.8->flask_restful) (2.0.2)\n",
      "Requirement already satisfied: itsdangerous>=0.24 in c:\\users\\acer\\anaconda3\\lib\\site-packages (from Flask>=0.8->flask_restful) (2.0.1)\n",
      "Requirement already satisfied: colorama in c:\\users\\acer\\anaconda3\\lib\\site-packages (from click>=5.1->Flask>=0.8->flask_restful) (0.4.4)\n",
      "Requirement already satisfied: MarkupSafe>=0.23 in c:\\users\\acer\\anaconda3\\lib\\site-packages (from Jinja2>=2.10.1->Flask>=0.8->flask_restful) (1.1.1)\n",
      "Installing collected packages: aniso8601, flask-restful\n",
      "Successfully installed aniso8601-9.0.1 flask-restful-0.3.9\n"
     ]
    }
   ],
   "source": [
    "!pip install flask_restful\n",
    "\n",
    "\n"
   ]
  },
  {
   "cell_type": "code",
   "execution_count": 71,
   "id": "874ebcbb",
   "metadata": {},
   "outputs": [],
   "source": [
    "from flask import Flask, jsonify, request, Response\n",
    "from flask_restful import Resource, Api, reqparse\n",
    "import numpy as np\n",
    "import pandas as pd"
   ]
  },
  {
   "cell_type": "code",
   "execution_count": null,
   "id": "20027a7b",
   "metadata": {
    "scrolled": true
   },
   "outputs": [
    {
     "name": "stdout",
     "output_type": "stream",
     "text": [
      " * Serving Flask app \"__main__\" (lazy loading)\n",
      " * Environment: production\n",
      "\u001b[31m   WARNING: This is a development server. Do not use it in a production deployment.\u001b[0m\n",
      "\u001b[2m   Use a production WSGI server instead.\u001b[0m\n",
      " * Debug mode: off\n"
     ]
    },
    {
     "name": "stderr",
     "output_type": "stream",
     "text": [
      " * Running on http://127.0.0.1:5000/ (Press CTRL+C to quit)\n",
      "127.0.0.1 - - [22/Mar/2022 16:55:50] \"POST /Scaffolding?question=1&answer=1 HTTP/1.1\" 308 -\n",
      "[2022-03-22 16:55:50,470] ERROR in app: Exception on /Scaffolding/ [POST]\n",
      "Traceback (most recent call last):\n",
      "  File \"C:\\Users\\acer\\anaconda3\\lib\\site-packages\\flask\\app.py\", line 1950, in full_dispatch_request\n",
      "    rv = self.dispatch_request()\n",
      "  File \"C:\\Users\\acer\\anaconda3\\lib\\site-packages\\flask\\app.py\", line 1936, in dispatch_request\n",
      "    return self.view_functions[rule.endpoint](**req.view_args)\n",
      "  File \"C:\\Users\\acer\\anaconda3\\lib\\site-packages\\flask_restful\\__init__.py\", line 467, in wrapper\n",
      "    resp = resource(*args, **kwargs)\n",
      "  File \"C:\\Users\\acer\\anaconda3\\lib\\site-packages\\flask\\views.py\", line 89, in view\n",
      "    return self.dispatch_request(*args, **kwargs)\n",
      "  File \"C:\\Users\\acer\\anaconda3\\lib\\site-packages\\flask_restful\\__init__.py\", line 582, in dispatch_request\n",
      "    resp = meth(*args, **kwargs)\n",
      "  File \"C:\\Users\\acer\\AppData\\Local\\Temp/ipykernel_7344/3574729195.py\", line 135, in post\n",
      "    input_fet[fet_name[args['question']]] = args['answer']\n",
      "IndexError: list index out of range\n",
      "127.0.0.1 - - [22/Mar/2022 16:55:50] \"POST /Scaffolding/?question=1&answer=1 HTTP/1.1\" 500 -\n",
      "[2022-03-22 16:55:55,244] ERROR in app: Exception on /Scaffolding/ [POST]\n",
      "Traceback (most recent call last):\n",
      "  File \"C:\\Users\\acer\\anaconda3\\lib\\site-packages\\flask\\app.py\", line 1950, in full_dispatch_request\n",
      "    rv = self.dispatch_request()\n",
      "  File \"C:\\Users\\acer\\anaconda3\\lib\\site-packages\\flask\\app.py\", line 1936, in dispatch_request\n",
      "    return self.view_functions[rule.endpoint](**req.view_args)\n",
      "  File \"C:\\Users\\acer\\anaconda3\\lib\\site-packages\\flask_restful\\__init__.py\", line 467, in wrapper\n",
      "    resp = resource(*args, **kwargs)\n",
      "  File \"C:\\Users\\acer\\anaconda3\\lib\\site-packages\\flask\\views.py\", line 89, in view\n",
      "    return self.dispatch_request(*args, **kwargs)\n",
      "  File \"C:\\Users\\acer\\anaconda3\\lib\\site-packages\\flask_restful\\__init__.py\", line 582, in dispatch_request\n",
      "    resp = meth(*args, **kwargs)\n",
      "  File \"C:\\Users\\acer\\AppData\\Local\\Temp/ipykernel_7344/3574729195.py\", line 135, in post\n",
      "    input_fet[fet_name[args['question']]] = args['answer']\n",
      "IndexError: list index out of range\n",
      "127.0.0.1 - - [22/Mar/2022 16:55:55] \"POST /Scaffolding/?question=1&answer=1 HTTP/1.1\" 500 -\n"
     ]
    }
   ],
   "source": [
    "\n",
    "app = Flask(__name__)\n",
    "api = Api(app)\n",
    "\n",
    "ques = {\n",
    "    1:\n",
    "        {\n",
    "            \"Strong Structure\":\n",
    "                {\n",
    "                    \"que\": \"Is the structure strong? \",\n",
    "                    \"options\": [\"True\", \"False\"],\n",
    "                    \"Path\": {\n",
    "                        \"True\":\"https://www.hometipsor.com/wp-content/uploads/2020/06/how-to-choose-scaffolding-company-1024x768.jpg\",\n",
    "                        \"False\":\"https://i2-prod.mirror.co.uk/incoming/article620423.ece/ALTERNATES/s615b/000F3554-B556-143C-A0080C01AC1BF814.jpg\"\n",
    "                    }\n",
    "                },\n",
    "            \"Type\" : \"Radio\"\n",
    "        },\n",
    "    2:\n",
    "        {\n",
    "            \"Support\":\n",
    "                {\n",
    "                    \"que\": \"Is there strong support for the scaffolding?\",\n",
    "                    \"options\": [\"True\", \"False\"],\n",
    "                     \"Path\": {\n",
    "                        \"True\":\"https://elcosh.org/record/document/803/11.gif\",\n",
    "                        \"False\":\"https://elcosh.org/record/document/803/11.gif\"\n",
    "                    }\n",
    "                },\n",
    "        \"Type\" : \"Radio\"     \n",
    "        },\n",
    "    3:\n",
    "        {\n",
    "            \"Tightly Planked\":\n",
    "                {\n",
    "                    \"que\": \"Is the scaffolding tightly planked? \",\n",
    "                    \"options\": [\"True\", \"False\"],\n",
    "                     \"Path\": {\n",
    "                        \"True\":\"https://images.infobloom.com/underside-closeup-wooden-platform-in-scaffolding.jpg\",\n",
    "                        \"False\":\"https://www.osha.gov/sites/default/files/2021-03/badsplit003.jpg\"\n",
    "                    }\n",
    "                },\n",
    "            \"Type\" : \"Radio\"\n",
    "        },\n",
    "    4:\n",
    "        {\n",
    "            \"Wear Proper harness\":\n",
    "                {\n",
    "                    \"que\": \"Are the workers wearing proper harness? \",\n",
    "                    \"options\": [\"True\", \"False\"],\n",
    "                     \"Path\": {\n",
    "                        \"True\":\"https://beautyharmonylife.com/wp-content/uploads/2017/01/Scaffolding-1.gif\",\n",
    "                        \"False\":\"https://beautyharmonylife.com/wp-content/uploads/2017/01/Scaffolding-1.gif\"\n",
    "                    }\n",
    "                },\n",
    "        \"Type\" : \"Radio\"\n",
    "        },\n",
    "    5:\n",
    "        {\n",
    "            \"Distance from electric line > 10 m\":\n",
    "                {\n",
    "                    \"que\": \"Is the distance from electric line greater than 10m? \",\n",
    "                    \"options\": [\"True\", \"False\"],\n",
    "                     \"Path\": {\n",
    "                      #  \"True\":\n",
    "                       # \"False\":\n",
    "                    }\n",
    "                },\n",
    "        \"Type\" : \"Radio\"\n",
    "        },\n",
    "    6:\n",
    "        {\n",
    "            \"Base/Landing Surface\":\n",
    "                {\n",
    "                    \"que\": \"Is the base/landing surface smooth? \",\n",
    "                    \"options\": [\"True\", \"False\"],\n",
    "                     \"Path\": {\n",
    "                       # \"True\":\n",
    "                        #\"False\":\n",
    "                    }\n",
    "                },\n",
    "        \"Type\" : \"Radio\"\n",
    "        },\n",
    "    7:\n",
    "        {\n",
    "            \"Proper PPE kits\":\n",
    "                {\n",
    "                    \"que\": \"Are the workers wearing proper PPE kits? \",\n",
    "                    \"options\": [\"True\", \"False\"],\n",
    "                    \"Path\": {\n",
    "                        \"True\":\"https://5.imimg.com/data5/SELLER/Default/2020/9/NF/BA/NB/53900542/ppes-jpg-500x500.jpg\",\n",
    "                        \"False\":\"https://thumbs.dreamstime.com/z/construction-worker-hard-hat-isolated-white-humorous-image-happy-wearing-high-vis-jacket-35049978.jpg\"\n",
    "                    }\n",
    "                },\n",
    "        \"Type\" : \"Radio\"\n",
    "        },\n",
    "    8:\n",
    "        {\n",
    "            \"Training to workers\":\n",
    "                {\n",
    "                    \"que\": \"Are the workers properly trained with the safety protocols and methods? \",\n",
    "                    \"options\": [\"True\", \"False\"],\n",
    "                    \"Path\": {\n",
    "                        \"True\":\"https://www.hseblog.com/wp-content/uploads/2018/05/Construction-Safety-Officer-Training.jpg\"\n",
    "                       # \"False\":\"\n",
    "                    }\n",
    "                },\n",
    "        \"Type\" : \"Radio\"\n",
    "        },\n",
    "    9:\n",
    "        {\n",
    "            \"Toeboard\":\n",
    "                {\n",
    "                    \"que\": \"Are there toeboards,midrail and guardrail present?\",\n",
    "                    \"options\": [\"True\", \"False\"],\n",
    "                    \"Path\": {\n",
    "                        \"True\":\"https://rlsdhamal.com/wp-content/uploads/2019/11/Toe-board.png\"\n",
    "                       # \"False\":\n",
    "                    }\n",
    "                },\n",
    "        \"Type\" : \"Radio\"\n",
    "        }\n",
    "}\n",
    "\n",
    "fet_name = list()\n",
    "input_fet = {}\n",
    "\n",
    "class Scaffolding(Resource):\n",
    "    def post(self):\n",
    "        parser = reqparse.RequestParser()\n",
    "        parser.add_argument('question', required = True, type = int)\n",
    "        parser.add_argument('answer', required = False, type = int)\n",
    "        args = parser.parse_args()\n",
    "\n",
    "        if args['answer'] is not None:\n",
    "            input_fet[fet_name[args['question']]] = args['answer']\n",
    "\n",
    "        if len(list(input_fet.keys())) == len(fet_name):\n",
    "            output_dict = {'Status':1,'Prediction':predict_(input_fet)}\n",
    "            input_fet.clear()\n",
    "            return output_dict\n",
    "        else:\n",
    "            if args['answer'] is not None:\n",
    "                output_dict = {'Status':0, fet_name[args['question'] + 1] : ques[fet_name[args['question'] + 1]]}\n",
    "                try:\n",
    "                    output_dict['Answer'] = input_fet[fet_name[args['question'] + 1]]\n",
    "                except:\n",
    "                    output_dict['Answer'] = 'Not answered'\n",
    "            else:\n",
    "                output_dict = {'Status':0, fet_name[args['question']] : ques[fet_name[args['question']]]}\n",
    "                try:\n",
    "                    output_dict['Answer'] = input_fet[fet_name[args['question']]]\n",
    "                except:\n",
    "                    output_dict['Answer'] = 'Not answered'\n",
    "            return output_dict\n",
    "    #@app.route('/answers',methods = ['POST'])\n",
    "    #def out():\n",
    "\n",
    "api.add_resource(Scaffolding, '/Scaffolding/')\n",
    "    \n",
    "\n",
    "if __name__ == '__main__':\n",
    "    app.run(debug=False)\n"
   ]
  },
  {
   "cell_type": "code",
   "execution_count": 31,
   "id": "3d0d2c86",
   "metadata": {},
   "outputs": [
    {
     "data": {
      "text/plain": [
       "{1: {'Strong Structure': {'que': 'Is the structure strong? ',\n",
       "   'options': ['True', 'False']}},\n",
       " 2: {'Support': {'que': 'Is there strong support for the scaffolding?',\n",
       "   'options': ['True', 'False']}},\n",
       " 3: {'Tightly Planked': {'que': 'Is the scaffolding tightly planked? ',\n",
       "   'options': ['True', 'False']}},\n",
       " 4: {'Wear Proper harness': {'que': 'Are the workers wearing proper harness? ',\n",
       "   'options': ['True', 'False']},\n",
       "  'ans': 1},\n",
       " 5: {'Distance from electric line > 10 m': {'que': 'Is the distance from electric line greater than 10m? ',\n",
       "   'options': ['True', 'False']}},\n",
       " 6: {'Base/Landing Surface': {'que': 'Is the base/landing surface smooth? ',\n",
       "   'options': ['True', 'False']}},\n",
       " 7: {'Proper PPE kits': {'que': 'Are the workers wearing proper PPE kits? ',\n",
       "   'options': ['True', 'False']}},\n",
       " 8: {'Training to workers': {'que': 'Are the workers properly trained with the safety protocols and methods? ',\n",
       "   'options': ['True', 'False']}},\n",
       " 9: {'Toeboard': {'que': 'Are there toeboards present?',\n",
       "   'options': ['True', 'False']},\n",
       "  'ans': 1}}"
      ]
     },
     "execution_count": 31,
     "metadata": {},
     "output_type": "execute_result"
    }
   ],
   "source": [
    "questions"
   ]
  },
  {
   "cell_type": "code",
   "execution_count": 7,
   "id": "d0f966a4",
   "metadata": {},
   "outputs": [
    {
     "data": {
      "text/plain": [
       "'Are the workers properly trained with the safety protocols and methods? '"
      ]
     },
     "execution_count": 7,
     "metadata": {},
     "output_type": "execute_result"
    }
   ],
   "source": [
    "questions['Training to workers']['que']"
   ]
  },
  {
   "cell_type": "code",
   "execution_count": 43,
   "id": "1e5d3dd6",
   "metadata": {},
   "outputs": [],
   "source": [
    "import pickle"
   ]
  },
  {
   "cell_type": "code",
   "execution_count": 44,
   "id": "3aaed8d0",
   "metadata": {},
   "outputs": [],
   "source": [
    "model = pickle.load(open('model.pkl','rb'))"
   ]
  },
  {
   "cell_type": "code",
   "execution_count": 46,
   "id": "0bd3d632",
   "metadata": {},
   "outputs": [],
   "source": [
    "prediction = model.predict([[0,0,0,0,0,1,1,1,1]])"
   ]
  },
  {
   "cell_type": "code",
   "execution_count": 47,
   "id": "407dda09",
   "metadata": {},
   "outputs": [
    {
     "data": {
      "text/plain": [
       "array([0], dtype=int64)"
      ]
     },
     "execution_count": 47,
     "metadata": {},
     "output_type": "execute_result"
    }
   ],
   "source": [
    "prediction"
   ]
  },
  {
   "cell_type": "code",
   "execution_count": 48,
   "id": "2db4f458",
   "metadata": {},
   "outputs": [],
   "source": [
    "model_sever = pickle.load(open('model_sever.pkl','rb'))\n",
    "model_injury = pickle.load(open('model_injury.pkl','rb'))"
   ]
  },
  {
   "cell_type": "code",
   "execution_count": 49,
   "id": "e9a99f6f",
   "metadata": {},
   "outputs": [
    {
     "data": {
      "text/plain": [
       "array([1], dtype=int64)"
      ]
     },
     "execution_count": 49,
     "metadata": {},
     "output_type": "execute_result"
    }
   ],
   "source": [
    "predict_two = model_sever.predict([[0,0,0,0,0,1,1,1,1]])\n",
    "predict_two"
   ]
  },
  {
   "cell_type": "code",
   "execution_count": 50,
   "id": "127e5eac",
   "metadata": {},
   "outputs": [
    {
     "data": {
      "text/plain": [
       "array([1], dtype=int64)"
      ]
     },
     "execution_count": 50,
     "metadata": {},
     "output_type": "execute_result"
    }
   ],
   "source": [
    "predict_three = model_injury.predict([[0,0,0,0,0,1,1,1,1]])\n",
    "predict_three"
   ]
  },
  {
   "cell_type": "code",
   "execution_count": 61,
   "id": "5bce30bc",
   "metadata": {},
   "outputs": [
    {
     "name": "stdout",
     "output_type": "stream",
     "text": [
      "{1: 1, 2: 1, 3: 1, 4: 1, 5: 1, 6: 1, 7: 1, 8: 1, 9: 1}\n"
     ]
    }
   ],
   "source": [
    "print(answers)"
   ]
  },
  {
   "cell_type": "code",
   "execution_count": null,
   "id": "b0e0162d",
   "metadata": {},
   "outputs": [],
   "source": [
    "answers.valu"
   ]
  }
 ],
 "metadata": {
  "kernelspec": {
   "display_name": "Python 3 (ipykernel)",
   "language": "python",
   "name": "python3"
  },
  "language_info": {
   "codemirror_mode": {
    "name": "ipython",
    "version": 3
   },
   "file_extension": ".py",
   "mimetype": "text/x-python",
   "name": "python",
   "nbconvert_exporter": "python",
   "pygments_lexer": "ipython3",
   "version": "3.9.7"
  }
 },
 "nbformat": 4,
 "nbformat_minor": 5
}
