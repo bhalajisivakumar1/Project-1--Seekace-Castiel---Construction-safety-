{
 "cells": [
  {
   "cell_type": "code",
   "execution_count": 6,
   "id": "e6433992",
   "metadata": {
    "scrolled": false
   },
   "outputs": [
    {
     "name": "stdout",
     "output_type": "stream",
     "text": [
      "Collecting flask_restful\n",
      "  Downloading Flask_RESTful-0.3.9-py2.py3-none-any.whl (25 kB)\n",
      "Requirement already satisfied: pytz in c:\\users\\acer\\anaconda3\\lib\\site-packages (from flask_restful) (2021.3)\n",
      "Requirement already satisfied: six>=1.3.0 in c:\\users\\acer\\anaconda3\\lib\\site-packages (from flask_restful) (1.16.0)\n",
      "Collecting aniso8601>=0.82\n",
      "  Downloading aniso8601-9.0.1-py2.py3-none-any.whl (52 kB)\n",
      "Requirement already satisfied: Flask>=0.8 in c:\\users\\acer\\anaconda3\\lib\\site-packages (from flask_restful) (1.1.2)\n",
      "Requirement already satisfied: click>=5.1 in c:\\users\\acer\\anaconda3\\lib\\site-packages (from Flask>=0.8->flask_restful) (8.0.3)\n",
      "Requirement already satisfied: Jinja2>=2.10.1 in c:\\users\\acer\\anaconda3\\lib\\site-packages (from Flask>=0.8->flask_restful) (2.11.3)\n",
      "Requirement already satisfied: Werkzeug>=0.15 in c:\\users\\acer\\anaconda3\\lib\\site-packages (from Flask>=0.8->flask_restful) (2.0.2)\n",
      "Requirement already satisfied: itsdangerous>=0.24 in c:\\users\\acer\\anaconda3\\lib\\site-packages (from Flask>=0.8->flask_restful) (2.0.1)\n",
      "Requirement already satisfied: colorama in c:\\users\\acer\\anaconda3\\lib\\site-packages (from click>=5.1->Flask>=0.8->flask_restful) (0.4.4)\n",
      "Requirement already satisfied: MarkupSafe>=0.23 in c:\\users\\acer\\anaconda3\\lib\\site-packages (from Jinja2>=2.10.1->Flask>=0.8->flask_restful) (1.1.1)\n",
      "Installing collected packages: aniso8601, flask-restful\n",
      "Successfully installed aniso8601-9.0.1 flask-restful-0.3.9\n"
     ]
    }
   ],
   "source": [
    "!pip install flask_restful\n",
    "\n",
    "\n"
   ]
  },
  {
   "cell_type": "code",
   "execution_count": 6,
   "id": "874ebcbb",
   "metadata": {},
   "outputs": [],
   "source": [
    "from flask import Flask, jsonify, request, Response\n",
    "from flask_restful import Resource, Api, reqparse\n",
    "import numpy as np\n",
    "import pandas as pd\n",
    "import pickle\n",
    "import random"
   ]
  },
  {
   "cell_type": "code",
   "execution_count": 80,
   "id": "20027a7b",
   "metadata": {
    "scrolled": true
   },
   "outputs": [
    {
     "name": "stdout",
     "output_type": "stream",
     "text": [
      " * Serving Flask app \"__main__\" (lazy loading)\n",
      " * Environment: production\n",
      "\u001b[31m   WARNING: This is a development server. Do not use it in a production deployment.\u001b[0m\n",
      "\u001b[2m   Use a production WSGI server instead.\u001b[0m\n",
      " * Debug mode: off\n"
     ]
    },
    {
     "name": "stderr",
     "output_type": "stream",
     "text": [
      " * Running on http://127.0.0.1:5000/ (Press CTRL+C to quit)\n",
      "127.0.0.1 - - [01/Apr/2022 16:55:59] \"POST /questions?question=1&answer=0 HTTP/1.1\" 200 -\n",
      "127.0.0.1 - - [01/Apr/2022 16:56:04] \"POST /questions?question=2&answer=0 HTTP/1.1\" 200 -\n",
      "127.0.0.1 - - [01/Apr/2022 16:56:12] \"POST /questions?question=3&answer=0 HTTP/1.1\" 200 -\n",
      "127.0.0.1 - - [01/Apr/2022 16:56:19] \"POST /questions?question=7&answer=0 HTTP/1.1\" 200 -\n"
     ]
    }
   ],
   "source": [
    "\n",
    "app = Flask(__name__)\n",
    "api = Api(app)\n",
    "\n",
    "questions = {\n",
    "    1:\n",
    "        {\n",
    "            \"Strong Structure\":\n",
    "                {\n",
    "                    \"que\": \"Is the structure strong? \",\n",
    "                    \"options\": [\"True\", \"False\"],\n",
    "                    \n",
    "                },\n",
    "            \n",
    "            \"Type\" : \"Radio\"\n",
    "        },\n",
    "    2:\n",
    "        {\n",
    "            \"Support\":\n",
    "                {\n",
    "                    \"que\": \"Is there strong support for the scaffolding?\",\n",
    "                    \"options\": [\"True\", \"False\"],\n",
    "                    \n",
    "                    },\n",
    "             \n",
    "        \"Type\" : \"Radio\"     \n",
    "        },\n",
    "    3:\n",
    "        {\n",
    "            \"Tightly Planked\":\n",
    "                {\n",
    "                    \"que\": \"Is the scaffolding tightly planked? \",\n",
    "                    \"options\": [\"True\", \"False\"],\n",
    "                    },\n",
    "             \n",
    "            \"Type\" : \"Radio\"\n",
    "        },\n",
    "    4:\n",
    "        {\n",
    "            \"Wear Proper harness\":\n",
    "                {\n",
    "                    \"que\": \"Are the workers wearing proper harness? \",\n",
    "                    \"options\": [\"True\", \"False\"],\n",
    "                     \n",
    "                    },\n",
    "            \n",
    "        \"Type\" : \"Radio\"\n",
    "        },\n",
    "    5:\n",
    "        {\n",
    "            \"Distance from electric line > 4 m\":\n",
    "                {\n",
    "                    \"que\": \"Is the distance from electric line greater than the OSHA specifications? \",\n",
    "                    \"options\": [\"True\", \"False\"],\n",
    "                     \n",
    "                    },\n",
    "            \n",
    "        \"Type\" : \"Radio\"\n",
    "        },\n",
    "    6:\n",
    "        {\n",
    "            \"Base/Landing Surface\":\n",
    "                {\n",
    "                    \"que\": \"Is the base/landing surface smooth? \",\n",
    "                    \"options\": [\"True\", \"False\"],\n",
    "                     \n",
    "                    },\n",
    "            \n",
    "        \"Type\" : \"Radio\"\n",
    "        },\n",
    "    7:\n",
    "        {\n",
    "            \"Proper PPE kits\":\n",
    "                {\n",
    "                    \"que\": \"Are the workers wearing proper PPE kits? \",\n",
    "                    \"options\": [\"True\", \"False\"],\n",
    "                    \n",
    "                },\n",
    "          \n",
    "        \"Type\" : \"Radio\"\n",
    "        },\n",
    "    8:\n",
    "        {\n",
    "            \"Training to workers\":\n",
    "                {\n",
    "                    \"que\": \"Are the workers properly trained with the safety protocols and methods? \",\n",
    "                    \"options\": [\"True\", \"False\"],\n",
    "                    \n",
    "                },\n",
    "            \n",
    "        \"Type\" : \"Radio\"\n",
    "        },\n",
    "    9:\n",
    "        {\n",
    "            \"Toeboard\":\n",
    "                {\n",
    "                    \"que\": \"Are there toeboards,midrail and guardrail present?\",\n",
    "                    \"options\": [\"True\", \"False\"],\n",
    "                   \n",
    "                },\n",
    "            \n",
    "        \"Type\" : \"Radio\"\n",
    "        }\n",
    "}\n",
    "\n",
    "path = {\n",
    "    1:\n",
    "        {\n",
    "            \n",
    "            \"Path\": {\n",
    "                        \"True\":\"https://www.hometipsor.com/wp-content/uploads/2020/06/how-to-choose-scaffolding-company-1024x768.jpg\",\n",
    "                        \"False\":\"https://i2-prod.mirror.co.uk/incoming/article620423.ece/ALTERNATES/s615b/000F3554-B556-143C-A0080C01AC1BF814.jpg\"\n",
    "                    }\n",
    "            \n",
    "        },\n",
    "    2:\n",
    "        {\n",
    "            \n",
    "             \"Path\": {\n",
    "                        \"True\":\"https://elcosh.org/record/document/803/11.gif\",\n",
    "                        \"False\":\"https://elcosh.org/record/document/803/11.gif\"\n",
    "                }     \n",
    "        },\n",
    "    3:\n",
    "        {\n",
    "            \n",
    "              \"Path\": {\n",
    "                        \"True\":\"https://images.infobloom.com/underside-closeup-wooden-platform-in-scaffolding.jpg\",\n",
    "                        \"False\":\"https://www.osha.gov/sites/default/files/2021-03/badsplit003.jpg\"\n",
    "                }\n",
    "        },\n",
    "    4:\n",
    "        {\n",
    "            \n",
    "            \"Path\": {\n",
    "                        \"True\":\"https://beautyharmonylife.com/wp-content/uploads/2017/01/Scaffolding-1.gif\",\n",
    "                        \"False\":\"https://beautyharmonylife.com/wp-content/uploads/2017/01/Scaffolding-1.gif\"\n",
    "                }\n",
    "        },\n",
    "    5:\n",
    "        {\n",
    "            \"Path\": {\n",
    "                       \"True\":\"https://th.bing.com/th/id/OIP.j6pkNwwFSylgQLgfpChnygAAAA?w=221&h=180&c=7&r=0&o=5&dpr=1.25&pid=1.7\",\n",
    "                        \"False\":\"https://www.powerstudies.com/sites/www.powerstudies.com/files/styles/blog/public/scaffold.JPG?itok=cthS1l6Z\"\n",
    "                }\n",
    "        },\n",
    "    \n",
    "    6:\n",
    "         {\n",
    "            \"Path\": {\n",
    "                        \"True\":\"https://rprnrwxhqnmq5p.leadongcdn.com/cloud/lqBqnKnpSRliqololjjq/333-640-640.jpg\",\n",
    "                        \"False\":\"https://mastascaffoldmelbourne.com.au/wp-content/uploads/2019/07/2017-11-02-10.53.42.jpg\"\n",
    "            }\n",
    "         },\n",
    "      \n",
    "    7:\n",
    "        {\n",
    "     \n",
    "            \"Path\": {\n",
    "                        \"True\":\"https://5.imimg.com/data5/SELLER/Default/2020/9/NF/BA/NB/53900542/ppes-jpg-500x500.jpg\",\n",
    "                        \"False\":\"https://thumbs.dreamstime.com/z/construction-worker-hard-hat-isolated-white-humorous-image-happy-wearing-high-vis-jacket-35049978.jpg\"\n",
    "            }\n",
    "        },\n",
    " \n",
    "    8:\n",
    "            {\n",
    "            \"Path\": {\n",
    "                        \"True\":\"https://www.hseblog.com/wp-content/uploads/2018/05/Construction-Safety-Officer-Training.jpg\",\n",
    "                        \"False\":\"https://na.rdcpix.com/1025640274/8ecb8b5c10a19ccbe1daba7bc38ec77cw-c276064xd-w685_h860_q80.jpg\"\n",
    "                    }\n",
    "            },\n",
    "   \n",
    "    9:\n",
    "           {\n",
    "             \"Path\": {\n",
    "                        \"True\":\"https://rlsdhamal.com/wp-content/uploads/2019/11/Toe-board.png\",\n",
    "                       \"False\":\"https://accidentattorneys.org/wp-content/uploads/2019/01/AdobeStock_96672001-1024x641.jpg\"\n",
    "                    }\n",
    "           }\n",
    "}\n",
    "answers = {\n",
    "    0:\"False\",\n",
    "    1:\"True\"\n",
    "}\n",
    "\n",
    "out = {}\n",
    "inp = {}\n",
    "\n",
    "suggestions = {\n",
    "    1:\"Your scaffold must be structurally sound and sturdy enough to support its weight plus four times the max intended load.\",\n",
    "    2:\"Unsteady objects like loose bricks, boxes, barrels, should never be used to support planks or scaffolds.\",\n",
    "    3:\"Your scaffolding platforms should be tightly planked.\",\n",
    "    4:\"Your workers should wear proper harness\",\n",
    "    5:\"Your scaffolding must rest at least 10 feet away from electrical power lines during all times.\",\n",
    "    6:\"Make sure your baselanding surface is smooth\",\n",
    "    7:\"Your workers should wear proper PPE kits\",\n",
    "    8:\"Make sue your workers are properly trained\",\n",
    "    9:\"All scaffolding must be equipped with toeboards, mid-rails, and guardrails.\"\n",
    "}\n",
    "\n",
    "\n",
    "\n",
    "@app.route(\"/questions\",methods = ['POST'])\n",
    "def quesTion():\n",
    "    \n",
    "    list_1 = [1,2,3,4,5,6,7,8,9]\n",
    "    random.shuffle(list_1)\n",
    "        \n",
    "    if request.method == 'POST':\n",
    "        question = request.args.get('question',type = int)\n",
    "        answer = request.args.get('answer',type = int)\n",
    "         \n",
    "        out[question] = answer\n",
    "        inp[question] = question\n",
    "        a = list(out.values())\n",
    "        b = list(inp.values())\n",
    "      \n",
    "            \n",
    "        \"\"\"new_dict = {b[i] : a[i] for i in range(len(a))}\n",
    "            sug = []\n",
    "            for k,l in new_dict.items():\n",
    "                if l == 0:\n",
    "                    sug.append(suggestions[k])\"\"\"\n",
    "                    \n",
    "        if answer == None:\n",
    "            for i in keys:\n",
    "                return jsonify(questions[i])\n",
    "        else:\n",
    "            \n",
    "            if question < 9:\n",
    "                for i in keys:\n",
    "                    return jsonify(questions[i],path[i]['Path'],answers[answer])\n",
    "            if question == 9:             \n",
    "                model = pickle.load(open('model.pkl','rb'))\n",
    "                model_sever = pickle.load(open('model_sever.pkl','rb'))\n",
    "                model_injury = pickle.load(open('model_injury.pkl','rb'))\n",
    "                prediction = model.predict([a]).tolist()[0]\n",
    "                predict_sever = model_sever.predict([a]).tolist()[0]\n",
    "                predict_injury = model_injury.predict([a]).tolist()[0]\n",
    "                out_dict = {\"safety\": prediction, \"severity\":predict_sever, \"injury\":predict_injury }\n",
    "                if prediction == 0:\n",
    "                    for i in keys:\n",
    "                        return jsonify(questions[i],path[i]['Path'],answers[answer],out_dict)\n",
    "                                       #,sug)\n",
    "                else:\n",
    "                    for i in keys:\n",
    "                        return jsonify(questions[question],path[question]['Path'],answers[answer],out_dict)\n",
    "                                       \n",
    "\n",
    "\n",
    "if __name__ == '__main__':\n",
    "    app.run(debug=False)\n"
   ]
  },
  {
   "cell_type": "code",
   "execution_count": null,
   "id": "5bce30bc",
   "metadata": {},
   "outputs": [],
   "source": []
  },
  {
   "cell_type": "code",
   "execution_count": 70,
   "id": "b0e0162d",
   "metadata": {},
   "outputs": [],
   "source": [
    "suggestionsA = {\n",
    "    1:\"Make sure the structure is strong\",\n",
    "    2:\"Make sure the support is strong\",\n",
    "    3:\"Make sure whether base is tightly planked\",\n",
    "    4:\"Make sure workers are wearing proper harness\",\n",
    "    5:\"Make sure the distance from the electric line > 10m\",\n",
    "    6:\"Make sure that the base / landing surface is smooth\",\n",
    "    7:\"Make sure the workrs are wearing proper PPE kits\",\n",
    "    8:\"Make sure the workers are properly trained\",\n",
    "    9:\"Make sure toeboards,guardrails and midrails are present\"\n",
    "}"
   ]
  },
  {
   "cell_type": "code",
   "execution_count": 85,
   "id": "86e76ac0",
   "metadata": {},
   "outputs": [],
   "source": [
    "b=[]\n",
    "b.append(suggestionsA[1])\n",
    "b.append(suggestionsA[2])\n",
    "b.append(suggestionsA[3])"
   ]
  },
  {
   "cell_type": "code",
   "execution_count": 86,
   "id": "3216e34b",
   "metadata": {},
   "outputs": [
    {
     "data": {
      "text/plain": [
       "['Make sure the structure is strong',\n",
       " 'Make sure the support is strong',\n",
       " 'Make sure whether base is tightly planked']"
      ]
     },
     "execution_count": 86,
     "metadata": {},
     "output_type": "execute_result"
    }
   ],
   "source": [
    "b"
   ]
  },
  {
   "cell_type": "code",
   "execution_count": 82,
   "id": "53310b5c",
   "metadata": {},
   "outputs": [],
   "source": [
    "b.append(suggestionsA[2])"
   ]
  },
  {
   "cell_type": "code",
   "execution_count": 83,
   "id": "dffdf0ee",
   "metadata": {},
   "outputs": [
    {
     "data": {
      "text/plain": [
       "['Make sure the structure is strong', 'Make sure the support is strong']"
      ]
     },
     "execution_count": 83,
     "metadata": {},
     "output_type": "execute_result"
    }
   ],
   "source": [
    "b"
   ]
  },
  {
   "cell_type": "code",
   "execution_count": 46,
   "id": "6218da33",
   "metadata": {},
   "outputs": [
    {
     "data": {
      "text/plain": [
       "2"
      ]
     },
     "execution_count": 46,
     "metadata": {},
     "output_type": "execute_result"
    }
   ],
   "source": [
    "int(3-1)"
   ]
  },
  {
   "cell_type": "code",
   "execution_count": 26,
   "id": "388dc8e6",
   "metadata": {},
   "outputs": [
    {
     "name": "stdout",
     "output_type": "stream",
     "text": [
      "['Make sure the structure is strong', 'Make sure whether base is tightly planked', 'Make sure the distance from the electric line > 10m', 'Make sure the workrs are wearing proper PPE kitsMake sure the workers are properly trained']\n"
     ]
    }
   ],
   "source": [
    "sug = []\n",
    "for i in range(0,(len(suggestions)-1)): \n",
    "    if i%2 == 0:\n",
    "        sug.append(suggestions[i])\n",
    "print(sug)"
   ]
  },
  {
   "cell_type": "code",
   "execution_count": 77,
   "id": "a13b5339",
   "metadata": {},
   "outputs": [
    {
     "data": {
      "text/plain": [
       "[2, 9, 8, 5, 7, 3, 6, 4, 1]"
      ]
     },
     "execution_count": 77,
     "metadata": {},
     "output_type": "execute_result"
    }
   ],
   "source": [
    "def sug():\n",
    "    suggestionsA = {\n",
    "        1:\"Make sure the structure is strong\",\n",
    "        2:\"Make sure the support is strong\",\n",
    "        3:\"Make sure whether base is tightly planked\",\n",
    "        4:\"Make sure workers are wearing proper harness\",\n",
    "        5:\"Make sure the distance from the electric line > 10m\",\n",
    "        6:\"Make sure that the base / landing surface is smooth\",\n",
    "        7:\"Make sure the workrs are wearing proper PPE kits\",\n",
    "        8:\"Make sure the workers are properly trained\",\n",
    "        9:\"Make sure toeboards,guardrails and midrails are present\"\n",
    "    }\n",
    "    key = list(suggestionsA.keys())\n",
    "    random.shuffle(key)\n",
    "    return key\n",
    "\n",
    "sug()\n",
    "    \n",
    "        "
   ]
  },
  {
   "cell_type": "code",
   "execution_count": 81,
   "id": "5facae5f",
   "metadata": {},
   "outputs": [
    {
     "name": "stdout",
     "output_type": "stream",
     "text": [
      "[2, 3, 8, 6, 9, 7, 1, 5, 4]\n"
     ]
    }
   ],
   "source": [
    "    keys = list(questions.keys())\n",
    "    random.shuffle(keys)\n",
    "    print(keys)"
   ]
  },
  {
   "cell_type": "code",
   "execution_count": 86,
   "id": "745f183e",
   "metadata": {},
   "outputs": [
    {
     "name": "stdout",
     "output_type": "stream",
     "text": [
      "[2, 7, 9, 6, 8, 4, 5, 1, 3]\n"
     ]
    }
   ],
   "source": [
    "list_1 = [1,2,3,4,5,6,7,8,9]\n",
    "random.shuffle(list_1)\n",
    "print(list_1)"
   ]
  }
 ],
 "metadata": {
  "kernelspec": {
   "display_name": "Python 3 (ipykernel)",
   "language": "python",
   "name": "python3"
  },
  "language_info": {
   "codemirror_mode": {
    "name": "ipython",
    "version": 3
   },
   "file_extension": ".py",
   "mimetype": "text/x-python",
   "name": "python",
   "nbconvert_exporter": "python",
   "pygments_lexer": "ipython3",
   "version": "3.9.7"
  }
 },
 "nbformat": 4,
 "nbformat_minor": 5
}
